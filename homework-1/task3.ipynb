{
 "cells": [
  {
   "cell_type": "code",
   "execution_count": 1,
   "metadata": {
    "pycharm": {
     "is_executing": false
    }
   },
   "outputs": [
    {
     "data": {
      "application/vnd.jupyter.widget-view+json": {
       "model_id": "debf7fc4db6e41b494c1f99b95d885e8",
       "version_major": 2,
       "version_minor": 0
      },
      "text/plain": [
       "HBox(children=(FloatProgress(value=0.0, description='1st', max=8000.0, style=ProgressStyle(description_width='…"
      ]
     },
     "metadata": {},
     "output_type": "display_data"
    },
    {
     "name": "stdout",
     "output_type": "stream",
     "text": [
      "\n"
     ]
    }
   ],
   "source": [
    "from cmath import sqrt\n",
    "from cmath import pi\n",
    "import numpy as np\n",
    "import matplotlib.pyplot as plt\n",
    "from tqdm.notebook import tnrange, tqdm_notebook\n",
    "EPS = 1e-5\n",
    "PLOT_STEP = 5 * 1e-4\n",
    "STOP_IND = 20\n",
    "def newton_method(start: complex, need_iteration_sequence = False):\n",
    "    iteration_sequence = [start]\n",
    "    change = 1\n",
    "    prev: complex\n",
    "    next = start\n",
    "    ind = 1\n",
    "    while change >= EPS and ind < STOP_IND:\n",
    "        prev = next\n",
    "        next = prev - ((prev ** 3 - (1 + 0j)) / (3 * prev ** 2))\n",
    "        change = abs(next - prev)\n",
    "        if need_iteration_sequence:\n",
    "            iteration_sequence.append(next)\n",
    "        ind += 1\n",
    "    return next, np.array(iteration_sequence)\n",
    "\n",
    "def calc_root_pools():\n",
    "    first_root_pool = []  \n",
    "    second_root_pool = []  \n",
    "    third_root_pool = []\n",
    "    uncorrected_root_pool = []\n",
    "    firs_root = 1 + 0j\n",
    "    second_root = complex(-0.5, (sqrt(3)/2))\n",
    "    third_root = complex(-0.5, -(sqrt(3)/2))\n",
    "    line = np.arange(-2, 2, step = PLOT_STEP)\n",
    "    for real in tqdm_notebook(line, desc = '1st'):\n",
    "        for image in line:\n",
    "            root, _ = newton_method(complex(real, image))\n",
    "            if abs(root - firs_root) < EPS:\n",
    "                first_root_pool.append((real, image))\n",
    "            elif abs(root - second_root) < EPS:                \n",
    "                second_root_pool.append((real, image))\n",
    "            elif abs(root - third_root) < EPS:\n",
    "                third_root_pool.append((real,image))\n",
    "            else:\n",
    "                uncorrected_root_pool.append((real, image))\n",
    "    return np.array(first_root_pool, dtype=tuple),\\\n",
    "           np.array(second_root_pool, dtype=tuple),\\\n",
    "           np.array(third_root_pool, dtype=tuple),\\\n",
    "           np.array(uncorrected_root_pool, dtype=tuple)       \n",
    "\n",
    "first_root_pool, second_root_pool,third_root_pool, uncorrected_root_pool = calc_root_pools()"
   ]
  },
  {
   "cell_type": "code",
   "execution_count": 2,
   "metadata": {
    "pycharm": {
     "is_executing": false,
     "name": "#%%\n"
    }
   },
   "outputs": [
    {
     "data": {
      "image/png": "[encoded data removed]",
      "text/plain": [
       "<Figure size 432x288 with 1 Axes>"
      ]
     },
     "metadata": {
      "needs_background": "light"
     },
     "output_type": "display_data"
    }
   ],
   "source": [
    "data = (np.transpose(first_root_pool), np.transpose(second_root_pool), np.transpose(third_root_pool), np.transpose(uncorrected_root_pool))            \n",
    "colors = (\"red\", \"green\", \"blue\", \"black\")\n",
    "groups = (\"1\", \"-0.5 + sqrt(3)/2i\", \"-0.5 - sqrt(3)/2i\", \"uncorrected_plots\")\n",
    "\n",
    "# Create plot\n",
    "fig = plt.figure()\n",
    "ax = fig.add_subplot(1, 1, 1)\n",
    "\n",
    "for point, color, group in zip(data, colors, groups):\n",
    "    if point.size >= 2:\n",
    "        x, y = point\n",
    "        ax.scatter(x, y, alpha=0.8, c=color, edgecolors='none', s=30, label=group)\n",
    "    \n",
    "plt.title('Matplot scatter plot')\n",
    "plt.legend(loc=2)\n",
    "plt.show()\n",
    "    "
   ]
  }
 ],
 "metadata": {
  "kernelspec": {
   "display_name": "Python 3",
   "language": "python",
   "name": "python3"
  },
  "language_info": {
   "codemirror_mode": {
    "name": "ipython",
    "version": 3
   },
   "file_extension": ".py",
   "mimetype": "text/x-python",
   "name": "python",
   "nbconvert_exporter": "python",
   "pygments_lexer": "ipython3",
   "version": "3.7.4"
  },
  "pycharm": {
   "stem_cell": {
    "cell_type": "raw",
    "metadata": {
     "collapsed": false
    },
    "source": []
   }
  }
 },
 "nbformat": 4,
 "nbformat_minor": 1
}
