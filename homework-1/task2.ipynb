{
 "cells": [
  {
   "cell_type": "code",
   "execution_count": 1,
   "metadata": {},
   "outputs": [],
   "source": [
    "import matplotlib.pyplot as plt\n",
    "import numpy as np\n",
    "import enum\n",
    "import random\n",
    "import math"
   ]
  },
  {
   "cell_type": "markdown",
   "metadata": {},
   "source": [
    "$x = r x (1 - x)$, где $x$ - искомое неизвестное, $r > 0$ - параметр. Корни: $x_1 = 0, x_2 = 1 - 1/r$."
   ]
  },
  {
   "cell_type": "code",
   "execution_count": 2,
   "metadata": {},
   "outputs": [],
   "source": [
    "eps_r = 1e-10\n",
    "eps_seq = 1e-12\n",
    "eps_root = 1e-6\n",
    "\n",
    "def logistic_map(x, r):\n",
    "    return r * x * (1 - x)"
   ]
  },
  {
   "cell_type": "code",
   "execution_count": 3,
   "metadata": {},
   "outputs": [],
   "source": [
    "def first_x(r):\n",
    "    return random.uniform((r - 1) / (2 * r) + 1e-10, (r + 1) / (2 * r) - 1e-10)\n",
    "\n",
    "def simple_iterations_method(r):\n",
    "    iterations_lim = 1e7\n",
    "    iterations_cur = 0\n",
    "\n",
    "    x_cur = first_x(r)\n",
    "    x_next = logistic_map(x_cur, r)\n",
    "\n",
    "    while abs(x_next - x_cur) > eps_seq:\n",
    "        iterations_cur += 1\n",
    "        x_cur = x_next\n",
    "        x_next = logistic_map(x_cur, r)\n",
    "        if iterations_cur > iterations_lim:\n",
    "            return None\n",
    "\n",
    "    return (x_next, iterations_cur)"
   ]
  },
  {
   "cell_type": "markdown",
   "metadata": {},
   "source": [
    "$\\varphi(x) = r x (1 - x)$\n",
    "\n",
    "$\\varphi'(x) = r (1 - 2x)$\n",
    "\n",
    "**Достаточное условие сходимости**\n",
    "\n",
    "$|\\varphi'(x)| \\leq q < 1$\n",
    "\n",
    "Выполняется на отрезке $ \\frac{r - 1}{2r} < x < \\frac{r + 1}{2 r}$, при условии $r > 0$\n",
    "\n",
    "Для начала посмотрим к какому из корней $x_1$, $x_2$ сходится метод простых итераций на каждом из интервалов $(0;1)$ и $(1;3)$.\n"
   ]
  },
  {
   "cell_type": "code",
   "execution_count": 4,
   "metadata": {},
   "outputs": [],
   "source": [
    "def simulate_for_range(left_r, right_r):\n",
    "    x1_num, x2_num = 0, 0\n",
    "    unresolved_parameters = []\n",
    "    bad_accuracy = []\n",
    "\n",
    "    for _ in range(10**5):\n",
    "        r = random.uniform(left_r + eps_r, right_r - eps_r)\n",
    "        x1 = 0.0\n",
    "        x2 = 1 - (1 / r)\n",
    "        method_result = simple_iterations_method(r)\n",
    "        if method_result is not None:\n",
    "            (result, it) = method_result\n",
    "            if abs(result - x1) < min(abs(result - x2), eps_root):\n",
    "                x1_num += 1\n",
    "            elif abs(result - x2) < eps_root:\n",
    "                x2_num += 1\n",
    "            else:\n",
    "                bad_accuracy.append(r)\n",
    "        else:\n",
    "            unresolved_parameters.append(r)\n",
    "    return (x1_num, x2_num, bad_accuracy, unresolved_parameters)\n"
   ]
  },
  {
   "cell_type": "code",
   "execution_count": 5,
   "metadata": {},
   "outputs": [
    {
     "name": "stdout",
     "output_type": "stream",
     "text": [
      "(100000, 0, [], [])\n",
      "(0, 99995, [], [2.999934030064482, 2.999917807179054, 2.9999916776990965, 2.999942716324483, 2.9999247000729747])\n"
     ]
    }
   ],
   "source": [
    "print(simulate_for_range(0, 1))\n",
    "print(simulate_for_range(1, 3))\n"
   ]
  },
  {
   "cell_type": "markdown",
   "metadata": {},
   "source": [
    "Покажем теперь численно, что:\n",
    "* при $0 < r < 1$ итерационная последовательность сходится к $x_1 = 0$ монотонно;\n",
    "* при $1 < r < 2$ итерационная последовательность сходится к $x_2 = 1 - \\frac{1}{r}$ монотонно;\n",
    "* при $2 < r < 3$ итерационная последовательность сходится к $x_2 = 1 - \\frac{1}{r}$ колебательно.\n"
   ]
  },
  {
   "cell_type": "code",
   "execution_count": 6,
   "metadata": {},
   "outputs": [],
   "source": [
    "class RootType(enum.Enum):\n",
    "    FIRST = 1\n",
    "    SECOND = 2\n",
    "    \n",
    "def simple_iterations_method_type_detection(r):\n",
    "    iterations_lim = 1e7\n",
    "    iterations_cur = 0\n",
    "    side_same, side_other = 0, 0\n",
    "    x_cur = first_x(r)\n",
    "    x_next = logistic_map(x_cur, r)\n",
    "\n",
    "    sequence = [x_cur, x_next]\n",
    "\n",
    "    while abs(x_next - x_cur) > eps_seq:\n",
    "        iterations_cur += 1\n",
    "        x_cur = x_next\n",
    "        x_next = logistic_map(x_cur, r)\n",
    "        sequence.append(x_next)\n",
    "        if iterations_cur > iterations_lim:\n",
    "            return None\n",
    "\n",
    "    root = x_next\n",
    "\n",
    "    if not abs(root) < eps_root and not abs(root - (1 - 1 / r)) < eps_root:\n",
    "        return (root, 0, 0)\n",
    "\n",
    "    for i in range(len(sequence) - 1):\n",
    "        fst = sequence[i]\n",
    "        snd = sequence[i + 1]\n",
    "        d = (fst - root) * (snd - root)\n",
    "        if d > 0:\n",
    "            side_same += 1\n",
    "        elif d < 0:\n",
    "            side_other += 1\n",
    "    return (root, side_same, side_other)\n"
   ]
  },
  {
   "cell_type": "code",
   "execution_count": 7,
   "metadata": {},
   "outputs": [],
   "source": [
    "def simulate_for_range_and_root(left_r, right_r, rootType):\n",
    "    total_side_saved, total_side_changed = 0, 0\n",
    "    errors = []\n",
    "    unresolved_parameters = []\n",
    "\n",
    "    for _ in range(10**4):\n",
    "        r = random.uniform(left_r + eps_r, right_r - eps_r)\n",
    "        root = 0 if rootType == RootType.FIRST else (1 - 1 / r)\n",
    "\n",
    "        method_result = simple_iterations_method_type_detection(r)\n",
    "        if method_result is not None: \n",
    "            (res, dir_saved, dir_changed) = simple_iterations_method_type_detection(r)\n",
    "            if abs(res - root) < eps_root:\n",
    "                total_side_saved += dir_saved\n",
    "                total_side_changed += dir_changed\n",
    "            else:\n",
    "                errors.append((r, res))\n",
    "        else: \n",
    "            unresolved_parameters.append(r)\n",
    "    return (total_side_saved,  total_side_changed, errors, unresolved_parameters)\n"
   ]
  },
  {
   "cell_type": "code",
   "execution_count": null,
   "metadata": {},
   "outputs": [
    {
     "name": "stdout",
     "output_type": "stream",
     "text": [
      "(2127004, 2481, [], [])\n"
     ]
    }
   ],
   "source": [
    "print(simulate_for_range_and_root(0, 1, RootType.FIRST))\n",
    "print(simulate_for_range_and_root(1, 2, RootType.SECOND))\n",
    "print(simulate_for_range_and_root(2, 3, RootType.SECOND))"
   ]
  },
  {
   "cell_type": "markdown",
   "metadata": {},
   "source": [
    "При $0 < r < 1$ сходимость к корню $x_0 = 0$. Получим следующее: $\\varphi'(x_1) = r \\Rightarrow 0 < \\varphi'(x) < r \\le 1$. Таким образом, сходимость монотонная.\n",
    "\n",
    "При $1 < r < 2$ сходимость к корню  $x_2 = 1 - \\frac{1}{r}$. Получим следующее:\n",
    "$\\varphi'(x_2) = 2 - r \\Rightarrow 0 < p'(x) \\leq 2 - r < 1$. Таким образом, сходимость монотонная.\n",
    "\n",
    "При $2 < r < 3$ сходится в точку $x_2 = 1 - \\frac{1}{r}$. Получим следующее:\n",
    "$\\varphi'(x_2) = 2 - r \\Rightarrow -1 < 2 - r \\leq p'(x) < 0$. Таким образом, сходимость колебательная."
   ]
  },
  {
   "cell_type": "code",
   "execution_count": null,
   "metadata": {},
   "outputs": [],
   "source": []
  },
  {
   "cell_type": "code",
   "execution_count": null,
   "metadata": {},
   "outputs": [],
   "source": []
  },
  {
   "cell_type": "code",
   "execution_count": null,
   "metadata": {},
   "outputs": [],
   "source": []
  },
  {
   "cell_type": "code",
   "execution_count": null,
   "metadata": {},
   "outputs": [],
   "source": []
  }
 ],
 "metadata": {
  "kernelspec": {
   "display_name": "Python 3",
   "language": "python",
   "name": "python3"
  },
  "language_info": {
   "codemirror_mode": {
    "name": "ipython",
    "version": 3
   },
   "file_extension": ".py",
   "mimetype": "text/x-python",
   "name": "python",
   "nbconvert_exporter": "python",
   "pygments_lexer": "ipython3",
   "version": "3.7.3"
  }
 },
 "nbformat": 4,
 "nbformat_minor": 4
}
