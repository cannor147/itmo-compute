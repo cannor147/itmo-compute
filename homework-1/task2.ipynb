{
 "cells": [
  {
   "cell_type": "code",
   "execution_count": 1,
   "metadata": {},
   "outputs": [],
   "source": [
    "import matplotlib.pyplot as plt\n",
    "import numpy as np\n",
    "import random\n",
    "import math"
   ]
  },
  {
   "cell_type": "markdown",
   "metadata": {},
   "source": [
    "$x = r x (1 - x)$, где $x$ - искомое неизвестное, $r > 0$ - параметр. Корни: $x_1 = 0, x_2 = 1 - 1/r$."
   ]
  },
  {
   "cell_type": "code",
   "execution_count": 2,
   "metadata": {},
   "outputs": [],
   "source": [
    "def logistic_map(x, r):\n",
    "    return r * x * (1 - x)"
   ]
  },
  {
   "cell_type": "code",
   "execution_count": 3,
   "metadata": {},
   "outputs": [],
   "source": [
    "def first_x(r):\n",
    "    return random.uniform ((r - 1) / (2 * r) + 1e-10, (r + 1) / (2 * r) - 1e-10)\n",
    "\n",
    "def simple_iterations_method(r):\n",
    "    eps = 1e-6\n",
    "    iterations_lim = 1e6\n",
    "    iterations_cur = 0\n",
    "    \n",
    "    x_cur  = first_x(r)\n",
    "       \n",
    "    x_next = logistic_map(x_cur, r)\n",
    "    \n",
    "    while (abs(x_next - x_cur) > eps):\n",
    "        iterations_cur += 1\n",
    "        x_cur  = x_next\n",
    "        x_next = logistic_map(x_cur, r)\n",
    "        if (iterations_cur > iterations_lim):\n",
    "            return (-666, iterations_lim)\n",
    "    \n",
    "    return (x_next, iterations_cur)"
   ]
  },
  {
   "cell_type": "markdown",
   "metadata": {},
   "source": [
    "$p(x) = r x (1 - x)$\n",
    "\n",
    "$p'(x) = r (1 - 2x)$\n",
    "\n",
    "**Достаточное условие сходимости**\n",
    "\n",
    "$|p'(x)| \\leq q < 1$\n",
    "\n",
    "Выполняется на отрезке $ \\frac{r - 1}{2r} < x < \\frac{r + 1}{2 r}$, при условии $r > 0$\n",
    "\n",
    "Для начала посмотрим к какому из корней $x_1$, $x_2$ сходится метод простых итераций на каждом из интервалов $(0;1)$ и $(1;3)$.\n"
   ]
  },
  {
   "cell_type": "code",
   "execution_count": 4,
   "metadata": {},
   "outputs": [],
   "source": [
    "def simulate_for_range(left_r, right_r):\n",
    "    x1_num = 0\n",
    "    x2_num = 0\n",
    "    n = 100000\n",
    "    eps_r = 1e-10\n",
    "    \n",
    "    for _ in range(n):\n",
    "        r = random.uniform(left_r + eps_r, right_r - eps_r)\n",
    "        x1 = 0.0\n",
    "        x2 = 1 - (1 / r)\n",
    "        (result, it) = simple_iterations_method(r)\n",
    "        if (result != -666):\n",
    "            if (abs(result - x1) < abs(result - x2)):\n",
    "                x1_num += 1\n",
    "            else:\n",
    "                x2_num += 1\n",
    "    return (x1_num, x2_num)\n"
   ]
  },
  {
   "cell_type": "code",
   "execution_count": 5,
   "metadata": {},
   "outputs": [
    {
     "name": "stdout",
     "output_type": "stream",
     "text": [
      "(100000, 0)\n",
      "(0, 100000)\n"
     ]
    }
   ],
   "source": [
    "print(simulate_for_range(0, 1))\n",
    "print(simulate_for_range(1, 3))\n"
   ]
  },
  {
   "cell_type": "code",
   "execution_count": null,
   "metadata": {},
   "outputs": [],
   "source": []
  }
 ],
 "metadata": {
  "kernelspec": {
   "display_name": "Python 3",
   "language": "python",
   "name": "python3"
  },
  "language_info": {
   "codemirror_mode": {
    "name": "ipython",
    "version": 3
   },
   "file_extension": ".py",
   "mimetype": "text/x-python",
   "name": "python",
   "nbconvert_exporter": "python",
   "pygments_lexer": "ipython3",
   "version": "3.7.3"
  }
 },
 "nbformat": 4,
 "nbformat_minor": 4
}
