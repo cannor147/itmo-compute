{
 "cells": [
  {
   "cell_type": "code",
   "execution_count": 1,
   "metadata": {},
   "outputs": [],
   "source": [
    "import matplotlib.pyplot as plt\n",
    "import numpy as np\n",
    "import enum\n",
    "import random\n",
    "import math"
   ]
  },
  {
   "cell_type": "markdown",
   "metadata": {},
   "source": [
    "$x = r x (1 - x)$, где $x$ - искомое неизвестное, $r > 0$ - параметр. Корни: $x_1 = 0, x_2 = 1 - 1/r$."
   ]
  },
  {
   "cell_type": "code",
   "execution_count": 2,
   "metadata": {},
   "outputs": [],
   "source": [
    "eps_r = 1e-10\n",
    "eps_seq = 1e-12\n",
    "eps_root = 1e-6\n",
    "\n",
    "def logistic_map(x, r):\n",
    "    return r * x * (1 - x)"
   ]
  },
  {
   "cell_type": "code",
   "execution_count": 3,
   "metadata": {},
   "outputs": [],
   "source": [
    "def first_x(r):\n",
    "    return random.uniform((r - 1) / (2 * r) + 1e-10, (r + 1) / (2 * r) - 1e-10)\n",
    "\n",
    "def simple_iterations_method(r):\n",
    "    iterations_lim = 1e7\n",
    "    iterations_cur = 0\n",
    "\n",
    "    x_cur = first_x(r)\n",
    "    x_next = logistic_map(x_cur, r)\n",
    "\n",
    "    while abs(x_next - x_cur) > eps_seq:\n",
    "        iterations_cur += 1\n",
    "        x_cur = x_next\n",
    "        x_next = logistic_map(x_cur, r)\n",
    "        if iterations_cur > iterations_lim:\n",
    "            return None\n",
    "\n",
    "    return (x_next, iterations_cur)"
   ]
  },
  {
   "cell_type": "markdown",
   "metadata": {},
   "source": [
    "$\\varphi(x) = r x (1 - x)$\n",
    "\n",
    "$\\varphi'(x) = r (1 - 2x)$\n",
    "\n",
    "**Достаточное условие сходимости**\n",
    "\n",
    "$|\\varphi'(x)| \\leq q < 1$\n",
    "\n",
    "Выполняется на отрезке $ \\frac{r - 1}{2r} < x < \\frac{r + 1}{2 r}$, при условии $r > 0$\n",
    "\n",
    "Для начала посмотрим к какому из корней $x_1$, $x_2$ сходится метод простых итераций на каждом из интервалов $(0;1)$ и $(1;3)$.\n"
   ]
  },
  {
   "cell_type": "code",
   "execution_count": 4,
   "metadata": {},
   "outputs": [],
   "source": [
    "def simulate_for_range(left_r, right_r):\n",
    "    x1_num, x2_num = 0, 0\n",
    "    unresolved_parameters = []\n",
    "    bad_accuracy = []\n",
    "\n",
    "    for _ in range(10**5):\n",
    "        r = random.uniform(left_r + eps_r, right_r - eps_r)\n",
    "        x1 = 0.0\n",
    "        x2 = 1 - (1 / r)\n",
    "        method_result = simple_iterations_method(r)\n",
    "        if method_result is not None:\n",
    "            (result, it) = method_result\n",
    "            if abs(result - x1) < min(abs(result - x2), eps_root):\n",
    "                x1_num += 1\n",
    "            elif abs(result - x2) < eps_root:\n",
    "                x2_num += 1\n",
    "            else:\n",
    "                bad_accuracy.append(r)\n",
    "        else:\n",
    "            unresolved_parameters.append(r)\n",
    "    return (x1_num, x2_num, bad_accuracy, unresolved_parameters)\n"
   ]
  },
  {
   "cell_type": "code",
   "execution_count": 5,
   "metadata": {},
   "outputs": [
    {
     "name": "stdout",
     "output_type": "stream",
     "text": [
      "(100000, 0, [], [])\n",
      "(0, 99997, [], [2.999900761421718, 2.999990666417875, 2.999936509404212])\n"
     ]
    }
   ],
   "source": [
    "print(simulate_for_range(0, 1))\n",
    "print(simulate_for_range(1, 3))\n"
   ]
  },
  {
   "cell_type": "markdown",
   "metadata": {},
   "source": [
    "Покажем теперь численно, что:\n",
    "* при $0 < r < 1$ итерационная последовательность сходится к $x_1 = 0$ монотонно;\n",
    "* при $1 < r < 2$ итерационная последовательность сходится к $x_2 = 1 - \\frac{1}{r}$ монотонно;\n",
    "* при $2 < r < 3$ итерационная последовательность сходится к $x_2 = 1 - \\frac{1}{r}$ колебательно.\n"
   ]
  },
  {
   "cell_type": "code",
   "execution_count": 6,
   "metadata": {},
   "outputs": [],
   "source": [
    "class RootType(enum.Enum):\n",
    "    FIRST = 1\n",
    "    SECOND = 2\n",
    "    \n",
    "def simple_iterations_method_type_detection(r):\n",
    "    iterations_lim = 1e7\n",
    "    iterations_cur = 0\n",
    "    side_same, side_other = 0, 0\n",
    "    x_cur = first_x(r)\n",
    "    x_next = logistic_map(x_cur, r)\n",
    "\n",
    "    sequence = [x_cur, x_next]\n",
    "\n",
    "    while abs(x_next - x_cur) > eps_seq:\n",
    "        iterations_cur += 1\n",
    "        x_cur = x_next\n",
    "        x_next = logistic_map(x_cur, r)\n",
    "        sequence.append(x_next)\n",
    "        if iterations_cur > iterations_lim:\n",
    "            return None\n",
    "\n",
    "    root = x_next\n",
    "\n",
    "    if not abs(root) < eps_root and not abs(root - (1 - 1 / r)) < eps_root:\n",
    "        return (root, 0, 0)\n",
    "\n",
    "    for i in range(len(sequence) - 1):\n",
    "        fst = sequence[i]\n",
    "        snd = sequence[i + 1]\n",
    "        d = (fst - root) * (snd - root)\n",
    "        if d > 0:\n",
    "            side_same += 1\n",
    "        elif d < 0:\n",
    "            side_other += 1\n",
    "    return (root, side_same, side_other)\n"
   ]
  },
  {
   "cell_type": "code",
   "execution_count": 7,
   "metadata": {},
   "outputs": [],
   "source": [
    "def simulate_for_range_and_root(left_r, right_r, rootType):\n",
    "    total_side_saved, total_side_changed = 0, 0\n",
    "    errors = []\n",
    "    unresolved_parameters = []\n",
    "\n",
    "    for _ in range(10**4):\n",
    "        r = random.uniform(left_r + eps_r, right_r - eps_r)\n",
    "        root = 0 if rootType == RootType.FIRST else (1 - 1 / r)\n",
    "\n",
    "        method_result = simple_iterations_method_type_detection(r)\n",
    "        if method_result is not None: \n",
    "            (res, dir_saved, dir_changed) = simple_iterations_method_type_detection(r)\n",
    "            if abs(res - root) < eps_root:\n",
    "                total_side_saved += dir_saved\n",
    "                total_side_changed += dir_changed\n",
    "            else:\n",
    "                errors.append((r, res))\n",
    "        else: \n",
    "            unresolved_parameters.append(r)\n",
    "    return (total_side_saved,  total_side_changed, errors, unresolved_parameters)\n"
   ]
  },
  {
   "cell_type": "code",
   "execution_count": 8,
   "metadata": {},
   "outputs": [
    {
     "name": "stdout",
     "output_type": "stream",
     "text": [
      "(2214429, 2434, [], [])\n",
      "(1307164, 2499, [], [])\n",
      "(3419, 2196210, [], [2.9999773043391773])\n"
     ]
    }
   ],
   "source": [
    "print(simulate_for_range_and_root(0, 1, RootType.FIRST))\n",
    "print(simulate_for_range_and_root(1, 2, RootType.SECOND))\n",
    "print(simulate_for_range_and_root(2, 3, RootType.SECOND))"
   ]
  },
  {
   "cell_type": "markdown",
   "metadata": {},
   "source": [
    "При $0 < r < 1$ сходимость к корню $x_0 = 0$. Получим следующее: $\\varphi'(x_1) = r \\Rightarrow 0 < \\varphi'(x) < r \\le 1$. Таким образом, сходимость монотонная.\n",
    "\n",
    "При $1 < r < 2$ сходимость к корню  $x_2 = 1 - \\frac{1}{r}$. Получим следующее:\n",
    "$\\varphi'(x_2) = 2 - r \\Rightarrow 0 < p'(x) \\leq 2 - r < 1$. Таким образом, сходимость монотонная.\n",
    "\n",
    "При $2 < r < 3$ сходится в точку $x_2 = 1 - \\frac{1}{r}$. Получим следующее:\n",
    "$\\varphi'(x_2) = 2 - r \\Rightarrow -1 < 2 - r \\leq p'(x) < 0$. Таким образом, сходимость колебательная."
   ]
  },
  {
   "cell_type": "code",
   "execution_count": 9,
   "metadata": {},
   "outputs": [],
   "source": [
    "def show_graph_for_r_in_range(left_r, right_r): \n",
    "    r = random.uniform(left_r + eps_r, right_r - eps_r)\n",
    "    print(r)\n",
    "    i_coords = []\n",
    "    x_coords = []\n",
    "    \n",
    "    x_cur = first_x(r)\n",
    "    \n",
    "    x_coords.append(x_cur)\n",
    "    i_coords.append(0)\n",
    "\n",
    "    for i in range(1,50):\n",
    "        x_cur = logistic_map(x_cur, r)\n",
    "        i_coords.append(i)\n",
    "        x_coords.append(x_cur)\n",
    "        \n",
    "    plt.plot(i_coords, x_coords)\n",
    "    plt.show()"
   ]
  },
  {
   "cell_type": "markdown",
   "metadata": {},
   "source": [
    "Продемонстрируем графиком, что сходимость при $0 < r < 1$ монотонная. "
   ]
  },
  {
   "cell_type": "code",
   "execution_count": 10,
   "metadata": {},
   "outputs": [
    {
     "name": "stdout",
     "output_type": "stream",
     "text": [
      "0.034730288282307335\n"
     ]
    },
    {
     "data": {
      "image/png": "[encoded data removed]",
      "text/plain": [
       "<Figure size 432x288 with 1 Axes>"
      ]
     },
     "metadata": {
      "needs_background": "light"
     },
     "output_type": "display_data"
    }
   ],
   "source": [
    "show_graph_for_r_in_range(0, 1)"
   ]
  },
  {
   "cell_type": "markdown",
   "metadata": {},
   "source": [
    "Продемонстрируем графиком, что сходимость при $1 < r < 2$ монотонная. "
   ]
  },
  {
   "cell_type": "code",
   "execution_count": 11,
   "metadata": {},
   "outputs": [
    {
     "name": "stdout",
     "output_type": "stream",
     "text": [
      "1.1922731707348182\n"
     ]
    },
    {
     "data": {
      "image/png": "[encoded data removed]",
      "text/plain": [
       "<Figure size 432x288 with 1 Axes>"
      ]
     },
     "metadata": {
      "needs_background": "light"
     },
     "output_type": "display_data"
    }
   ],
   "source": [
    "show_graph_for_r_in_range(1, 2)"
   ]
  },
  {
   "cell_type": "markdown",
   "metadata": {},
   "source": [
    "Продемонстрируем графиком, что сходимость при $2 < r < 3$ колебательная. "
   ]
  },
  {
   "cell_type": "code",
   "execution_count": 12,
   "metadata": {},
   "outputs": [
    {
     "name": "stdout",
     "output_type": "stream",
     "text": [
      "2.4280791803548185\n"
     ]
    },
    {
     "data": {
      "image/png": "[encoded data removed]",
      "text/plain": [
       "<Figure size 432x288 with 1 Axes>"
      ]
     },
     "metadata": {
      "needs_background": "light"
     },
     "output_type": "display_data"
    }
   ],
   "source": [
    "show_graph_for_r_in_range(2, 3)"
   ]
  },
  {
   "cell_type": "markdown",
   "metadata": {},
   "source": [
    "Продемонстрируем графиком, что в зависимости от выбранного $r$ на интервале $3 < r < r_{\\infty}$ итерационная последовательность будет иметь $2$, $4$, $8$ ... $2^n$ пределов."
   ]
  },
  {
   "cell_type": "code",
   "execution_count": 13,
   "metadata": {},
   "outputs": [
    {
     "name": "stdout",
     "output_type": "stream",
     "text": [
      "3.025494597761066\n"
     ]
    },
    {
     "data": {
      "image/png": "[encoded data removed]",
      "text/plain": [
       "<Figure size 432x288 with 1 Axes>"
      ]
     },
     "metadata": {
      "needs_background": "light"
     },
     "output_type": "display_data"
    }
   ],
   "source": [
    "show_graph_for_r_in_range(3, 3.57)"
   ]
  },
  {
   "cell_type": "markdown",
   "metadata": {},
   "source": [
    "Продемонстрируем графиком, что на интервале $r_{\\infty} < r < 4$ поведение итерационной последовательности похоже на случайное (детерминированный хаос)."
   ]
  },
  {
   "cell_type": "code",
   "execution_count": 14,
   "metadata": {},
   "outputs": [
    {
     "name": "stdout",
     "output_type": "stream",
     "text": [
      "3.733250452297358\n"
     ]
    },
    {
     "data": {
      "image/png": "[encoded data removed]",
      "text/plain": [
       "<Figure size 432x288 with 1 Axes>"
      ]
     },
     "metadata": {
      "needs_background": "light"
     },
     "output_type": "display_data"
    }
   ],
   "source": [
    "show_graph_for_r_in_range(3.57, 4)"
   ]
  },
  {
   "cell_type": "code",
   "execution_count": 15,
   "metadata": {},
   "outputs": [],
   "source": [
    "# TODO: подправить константу в последних двух графиках (может, в какой-то библиотеке она есть?)\n",
    "# + нарисовать ещё график бифуркации (из r в x_{i}), показать хаос (график, наверное, будет +- такой же), а также \n",
    "# нужны еще графики x_i -> phi(x_i) (если судить по заданию). \n",
    "# Мб записать ещё какие-то выводы.\n",
    "# Вообще я не оченб понимаю, как можно численно показать, что значения итерационной последовательнотси похожи \n",
    "# на хаос (если имеются ввиду графики, то уже показали, иначе хз)"
   ]
  },
  {
   "cell_type": "code",
   "execution_count": null,
   "metadata": {},
   "outputs": [],
   "source": []
  }
 ],
 "metadata": {
  "kernelspec": {
   "display_name": "Python 3",
   "language": "python",
   "name": "python3"
  },
  "language_info": {
   "codemirror_mode": {
    "name": "ipython",
    "version": 3
   },
   "file_extension": ".py",
   "mimetype": "text/x-python",
   "name": "python",
   "nbconvert_exporter": "python",
   "pygments_lexer": "ipython3",
   "version": "3.7.3"
  }
 },
 "nbformat": 4,
 "nbformat_minor": 4
}
