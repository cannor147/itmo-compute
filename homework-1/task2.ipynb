{
 "cells": [
  {
   "cell_type": "code",
   "execution_count": 1,
   "metadata": {},
   "outputs": [],
   "source": [
    "import matplotlib.pyplot as plt\n",
    "import numpy as np\n",
    "import random\n",
    "import math"
   ]
  },
  {
   "cell_type": "markdown",
   "metadata": {},
   "source": [
    "$x = r x (1 - x)$, где $x$ - искомое неизвестное, $r > 0$ - параметр. Корни: $x_1 = 0, x_2 = 1 - 1/r$."
   ]
  },
  {
   "cell_type": "code",
   "execution_count": 2,
   "metadata": {},
   "outputs": [],
   "source": [
    "def logistic_map(x, r):\n",
    "    return r * x * (1 - x)"
   ]
  },
  {
   "cell_type": "code",
   "execution_count": 3,
   "metadata": {},
   "outputs": [],
   "source": [
    "def first_x(r):\n",
    "    return random.uniform ((r - 1) / (2 * r) + 1e-10, (r + 1) / (2 * r) - 1e-10)\n",
    "\n",
    "def simple_iterations_method(r):\n",
    "    eps = 1e-12\n",
    "    iterations_lim = 1e7\n",
    "    iterations_cur = 0\n",
    "    \n",
    "    x_cur  = first_x(r)\n",
    "       \n",
    "    x_next = logistic_map(x_cur, r)\n",
    "    \n",
    "    while (abs(x_next - x_cur) > eps):\n",
    "        iterations_cur += 1\n",
    "        x_cur  = x_next\n",
    "        x_next = logistic_map(x_cur, r)\n",
    "        if (iterations_cur > iterations_lim):\n",
    "            return (-666, iterations_lim)\n",
    "    \n",
    "    return (x_next, iterations_cur)"
   ]
  },
  {
   "cell_type": "markdown",
   "metadata": {},
   "source": [
    "$p(x) = r x (1 - x)$\n",
    "\n",
    "$p'(x) = r (1 - 2x)$\n",
    "\n",
    "**Достаточное условие сходимости**\n",
    "\n",
    "$|p'(x)| \\leq q < 1$\n",
    "\n",
    "Выполняется на отрезке $ \\frac{r - 1}{2r} < x < \\frac{r + 1}{2 r}$, при условии $r > 0$\n",
    "\n",
    "Для начала посмотрим к какому из корней $x_1$, $x_2$ сходится метод простых итераций на каждом из интервалов $(0;1)$ и $(1;3)$.\n"
   ]
  },
  {
   "cell_type": "code",
   "execution_count": 4,
   "metadata": {},
   "outputs": [],
   "source": [
    "def simulate_for_range(left_r, right_r):\n",
    "    x1_num, x2_num = 0, 0\n",
    "    eps_r = 1e-10\n",
    "    eps = 1e-6\n",
    "    unresolved_parameters = []\n",
    "    bad_accuracy = []\n",
    "    \n",
    "    for _ in range(10**5):\n",
    "        r = random.uniform(left_r + eps_r, right_r - eps_r)\n",
    "        x1 = 0.0\n",
    "        x2 = 1 - (1 / r)\n",
    "        (result, it) = simple_iterations_method(r)\n",
    "        if (result != -666):\n",
    "            if (abs(result - x1) < abs(result - x2) and abs(result - x1) < eps):\n",
    "                x1_num += 1\n",
    "            elif (abs(result - x2) < eps):\n",
    "                x2_num += 1\n",
    "            else:\n",
    "                bad_accuracy.append(r)\n",
    "                \n",
    "        else:\n",
    "            unresolved_parameters.append(r);\n",
    "    return (x1_num, x2_num, bad_accuracy, unresolved_parameters)\n"
   ]
  },
  {
   "cell_type": "code",
   "execution_count": null,
   "metadata": {},
   "outputs": [
    {
     "name": "stdout",
     "output_type": "stream",
     "text": [
      "(100000, 0, [], [])\n"
     ]
    }
   ],
   "source": [
    "print(simulate_for_range(0, 1))\n",
    "print(simulate_for_range(1, 3))\n"
   ]
  },
  {
   "cell_type": "markdown",
   "metadata": {},
   "source": [
    "Покажем теперь численно, что:\n",
    "* при $0 < r < 1$ итерационная последовательность сходится к $x_1 = 0$ монотонно;\n",
    "* при $1 < r < 2$ итерационная последовательность сходится к $x_2 = 1 - \\frac{1}{r}$ монотонно;\n",
    "* при $2 < r < 3$ итерационная последовательность сходится к $x_2 = 1 - \\frac{1}{r}$ колебательно.\n"
   ]
  },
  {
   "cell_type": "code",
   "execution_count": null,
   "metadata": {},
   "outputs": [],
   "source": [
    "def simple_iterations_method_type_detection(r):\n",
    "    eps = 1e-12\n",
    "    iterations_lim = 1e7\n",
    "    iterations_cur = 0\n",
    "    side_same, side_other = 0, 0\n",
    "    x_cur  = first_x(r)\n",
    "    x_next = logistic_map(x_cur, r)\n",
    "    \n",
    "    sequence = [x_cur, x_next]\n",
    "    \n",
    "    while (abs(x_next - x_cur) > eps):\n",
    "        iterations_cur += 1\n",
    "        x_cur  = x_next\n",
    "        x_next = logistic_map(x_cur, r)\n",
    "        sequence.append(x_next)\n",
    "        if (iterations_cur > iterations_lim):\n",
    "            return (-666, -666, -666)\n",
    "    \n",
    "    root = x_next\n",
    "    \n",
    "    if (not abs(root) < 1e-8 and not abs(root - (1 - 1 / r)) < 1e-8):\n",
    "        return (root, -666, -666)\n",
    "    \n",
    "    for i in range (0, len(sequence) - 1):\n",
    "        fst = sequence[i]\n",
    "        snd = sequence[i + 1]\n",
    "        d = (fst - root) * (snd - root)\n",
    "        if d > 0:\n",
    "            side_same  += 1\n",
    "        elif d < 0:\n",
    "            side_other += 1\n",
    "    return (root, side_same, side_other)\n"
   ]
  },
  {
   "cell_type": "code",
   "execution_count": null,
   "metadata": {},
   "outputs": [],
   "source": [
    "def simulate_for_range_and_root(left_r, right_r, isZero):\n",
    "    total_side_saved, total_side_changed = 0, 0\n",
    "    eps_r = 1e-10\n",
    "    eps = 1e-6\n",
    "    errors = []\n",
    "\n",
    "    for _ in range(10**4):\n",
    "        r = random.uniform(left_r + eps_r, right_r - eps_r)\n",
    "        \n",
    "        if (isZero):\n",
    "            root = 0\n",
    "        else:\n",
    "            root = 1 - 1 / r\n",
    "\n",
    "        (res, dir_saved, dir_changed) = simple_iterations_method_type_detection(r)\n",
    "        if (abs(res - root) < eps):\n",
    "            total_side_saved += dir_saved\n",
    "            total_side_changed += dir_changed\n",
    "        else:\n",
    "            errors.append((r, res))\n",
    "    return (total_side_saved,  total_side_changed, errors)\n"
   ]
  },
  {
   "cell_type": "code",
   "execution_count": null,
   "metadata": {},
   "outputs": [],
   "source": [
    "print(simulate_for_range_and_root(0, 1, True))\n",
    "print(simulate_for_range_and_root(1, 2, False))\n",
    "print(simulate_for_range_and_root(2, 3, False))"
   ]
  },
  {
   "cell_type": "markdown",
   "metadata": {},
   "source": [
    "При $0 < r < 1$ сходимость к корню $x_0 = 0$. $p'(x_0) = r \\Rightarrow 0 < p'(x) < r \\le 1$. Таким образом, сходимость монотонная.\n",
    "\n",
    "При $1 < r < 2$ сходимость к корню  $x_1 = 1 - \\frac{1}{r}$\n",
    "$p'(x_1) = 2 - r \\Rightarrow 0 < p'(x) \\leq 2 - r < 1$. Таким образом, сходимость монотонная.\n",
    "\n",
    "При $2 < r < 3$ сходится в точку $x_1 = 1 - \\frac{1}{r}$.\n",
    "$p'(x_1) = 2 - r \\Rightarrow -1 < 2 - r \\leq p'(x) < 0$. Таким образом, сходимость колебательная."
   ]
  },
  {
   "cell_type": "code",
   "execution_count": null,
   "metadata": {},
   "outputs": [],
   "source": []
  },
  {
   "cell_type": "code",
   "execution_count": null,
   "metadata": {},
   "outputs": [],
   "source": []
  }
 ],
 "metadata": {
  "kernelspec": {
   "display_name": "Python 3",
   "language": "python",
   "name": "python3"
  },
  "language_info": {
   "codemirror_mode": {
    "name": "ipython",
    "version": 3
   },
   "file_extension": ".py",
   "mimetype": "text/x-python",
   "name": "python",
   "nbconvert_exporter": "python",
   "pygments_lexer": "ipython3",
   "version": "3.7.3"
  }
 },
 "nbformat": 4,
 "nbformat_minor": 4
}
