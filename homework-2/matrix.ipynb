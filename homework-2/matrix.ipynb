{
 "cells": [
  {
   "cell_type": "markdown",
   "metadata": {},
   "source": [
    "# Генерация матриц"
   ]
  },
  {
   "cell_type": "code",
   "execution_count": 236,
   "metadata": {},
   "outputs": [
    {
     "name": "stdout",
     "output_type": "stream",
     "text": [
      "(  100.00000  9.00000  5.00000  10.00000 )\n",
      "(  1.00000  100.00000  10.00000  4.00000 )\n",
      "(  5.00000  1.00000  100.00000  7.00000 )\n",
      "(  7.00000  3.00000  2.00000  100.00000 )\n",
      "[8, 1, 9, 4]\n"
     ]
    }
   ],
   "source": [
    "from copy import copy, deepcopy\n",
    "import random as random\n",
    "d = 10\n",
    "\n",
    "def print_matrix(matrix):\n",
    "    n = len(matrix)\n",
    "    m = len(matrix[0])\n",
    "    for i in range(n):\n",
    "        print(\"( \", end =\"\")\n",
    "        for j in range(m):\n",
    "            print(\"\" if matrix[i][j] < 0 else \" \", \"%.5f\" % matrix[i][j], sep = \"\", end = \" \")\n",
    "        print(\")\")\n",
    "def print_system(matrix, vector):\n",
    "    n = len(matrix)\n",
    "    m = len(matrix[0])\n",
    "    for i in range(n):\n",
    "        print(\"( \", end =\"\")\n",
    "        for j in range(m):\n",
    "            print(\"\" if matrix[i][j] < 0 else \" \", \"%.5f\" % matrix[i][j], sep = \"\", end = \" \")\n",
    "        print(\")   \", end = \"\")\n",
    "        print(\"\" if vector[i] < 0 else \" \", \"%.5f\" % vector[i], sep = \"\")\n",
    "        \n",
    "random.seed(30)\n",
    "example_matrix = [[100 if i == j else random.randint(1, 10) for i in range(4)] for j in range(4)]\n",
    "example_b = [random.randint(1, 10) for i in range(4)]\n",
    "print_matrix(example_matrix)\n",
    "print(example_b)"
   ]
  },
  {
   "cell_type": "code",
   "execution_count": 237,
   "metadata": {
    "scrolled": false
   },
   "outputs": [
    {
     "name": "stdout",
     "output_type": "stream",
     "text": [
      "(  0.53908  0.28920  0.03004  0.65364  0.21001  0.25728  0.39720  0.64158  0.98881  0.46153 )\n",
      "(  0.99349  0.99257  0.24268  0.07265  0.15990  0.84190  0.59955  0.91746  0.97217  0.65442 )\n",
      "(  0.53520  0.06763  0.02351  0.80529  0.67197  0.76301  0.56565  0.67389  0.63872  0.89518 )\n",
      "(  0.11175  0.49445  0.30919  0.82934  0.87708  0.25203  0.08034  0.24322  0.31462  0.76964 )\n",
      "(  0.40973  0.74990  0.30095  0.52374  0.18637  0.64538  0.51310  0.86266  0.94846  0.52002 )\n",
      "(  0.06826  0.93727  0.94484  0.47425  0.48565  0.93254  0.25367  0.25560  0.69523  0.67498 )\n",
      "(  0.68606  0.82801  0.51242  0.42014  0.22551  0.21334  0.36985  0.43174  0.73964  0.62003 )\n",
      "(  0.51073  0.38016  0.62545  0.38228  0.79730  0.64381  0.69472  0.37322  0.51790  0.72124 )\n",
      "(  0.95667  0.52877  0.32079  0.68928  0.11954  0.33461  0.03270  0.55280  0.25383  0.39176 )\n",
      "(  0.78753  0.63540  0.03697  0.44275  0.00671  0.82319  0.49649  0.85041  0.26465  0.82307 )\n"
     ]
    }
   ],
   "source": [
    "random.seed(30)\n",
    "random_matrix = [[random.random() for j in range(d)] for i in range(d)]\n",
    "print_matrix(random_matrix)"
   ]
  },
  {
   "cell_type": "code",
   "execution_count": 238,
   "metadata": {},
   "outputs": [
    {
     "name": "stdout",
     "output_type": "stream",
     "text": [
      "( -0.73077 -0.06727  0.03609  0.00375  0.08157 -0.02621 -0.03210 -0.04957 -0.08006 -0.12339 )\n",
      "( -0.05640  0.55588  0.00713 -0.00248 -0.08486  0.07081  0.08040  0.05961  0.07101 -0.06731 )\n",
      "( -0.03985  0.07294 -0.96864  0.02927  0.05094 -0.01813  0.06278  0.04991 -0.08391 -0.09226 )\n",
      "( -0.07749 -0.09352  0.05788  0.81272 -0.04746 -0.02547 -0.02410  0.04178 -0.04877 -0.08354 )\n",
      "(  0.12624 -0.06978 -0.04233  0.09096  0.72137 -0.01577  0.04416 -0.00432  0.07295 -0.03350 )\n",
      "(  0.01551  0.09707 -0.04361  0.00820 -0.10241 -0.88014 -0.09363 -0.02167  0.06462  0.05329 )\n",
      "(  0.06613 -0.01491  0.07227  0.11265  0.08483 -0.02621 -0.51066 -0.03586 -0.07153 -0.01562 )\n",
      "(  0.09145 -0.06540  0.03843 -0.07555  0.01891  0.02887  0.08846 -0.64393  0.07554  0.01739 )\n",
      "( -0.09706  0.09893  0.09160 -0.01426  0.03225 -0.01163 -0.08827  0.05499 -0.74054  0.01102 )\n",
      "(  0.08680 -0.03915  0.05735  0.03586 -0.08805  0.05401 -0.05044 -0.00703  0.08131  0.76679 )\n"
     ]
    }
   ],
   "source": [
    "random.seed(30)\n",
    "def random_sign():\n",
    "    return 1 if random.random() < 0.5 else -1\n",
    "def random_with_major(d):\n",
    "    l = [random.random() for i in range(d)]\n",
    "    s = sum(l)\n",
    "    l = [l[i]/(2 * s) for i in range(d)]\n",
    "    return l\n",
    "\n",
    "diagonal_matrix = [[0 for j in range(d)] for i in range(d)]\n",
    "for i in range(d):\n",
    "    l = random_with_major(d - 1)\n",
    "    for j in range(d):\n",
    "        if j < i:\n",
    "            diagonal_matrix[i][j] = l[j]\n",
    "        elif j > i:\n",
    "            diagonal_matrix[i][j] = l[j - 1]\n",
    "        else:\n",
    "            diagonal_matrix[i][j] = random.uniform(0.5, 1)\n",
    "        diagonal_matrix[i][j] *= random_sign()\n",
    "print_matrix(diagonal_matrix)"
   ]
  },
  {
   "cell_type": "code",
   "execution_count": 239,
   "metadata": {
    "scrolled": true
   },
   "outputs": [
    {
     "name": "stdout",
     "output_type": "stream",
     "text": [
      "(  1.00000  0.50000  0.33333  0.25000  0.20000  0.16667  0.14286  0.12500  0.11111  0.10000 )\n",
      "(  0.50000  0.33333  0.25000  0.20000  0.16667  0.14286  0.12500  0.11111  0.10000  0.09091 )\n",
      "(  0.33333  0.25000  0.20000  0.16667  0.14286  0.12500  0.11111  0.10000  0.09091  0.08333 )\n",
      "(  0.25000  0.20000  0.16667  0.14286  0.12500  0.11111  0.10000  0.09091  0.08333  0.07692 )\n",
      "(  0.20000  0.16667  0.14286  0.12500  0.11111  0.10000  0.09091  0.08333  0.07692  0.07143 )\n",
      "(  0.16667  0.14286  0.12500  0.11111  0.10000  0.09091  0.08333  0.07692  0.07143  0.06667 )\n",
      "(  0.14286  0.12500  0.11111  0.10000  0.09091  0.08333  0.07692  0.07143  0.06667  0.06250 )\n",
      "(  0.12500  0.11111  0.10000  0.09091  0.08333  0.07692  0.07143  0.06667  0.06250  0.05882 )\n",
      "(  0.11111  0.10000  0.09091  0.08333  0.07692  0.07143  0.06667  0.06250  0.05882  0.05556 )\n",
      "(  0.10000  0.09091  0.08333  0.07692  0.07143  0.06667  0.06250  0.05882  0.05556  0.05263 )\n"
     ]
    }
   ],
   "source": [
    "hilbert_matrix = [[1/(1 + i + j) for j in range(d)] for i in range(d)]\n",
    "print_matrix(hilbert_matrix)"
   ]
  },
  {
   "cell_type": "code",
   "execution_count": 240,
   "metadata": {},
   "outputs": [
    {
     "name": "stdout",
     "output_type": "stream",
     "text": [
      "[0.043688845233486595, 0.844704270307799, 0.530639246187617, 0.867919078516265, 0.6395965135577536, 0.6304196490465996, 0.11122326503268554, 0.6208909809829803, 0.4311663232450812, 0.2766606575758913]\n"
     ]
    }
   ],
   "source": [
    "b = [random.random() for i in range(d)]\n",
    "print(b)"
   ]
  },
  {
   "cell_type": "markdown",
   "metadata": {},
   "source": [
    "# Метод Гаусса"
   ]
  },
  {
   "cell_type": "code",
   "execution_count": 241,
   "metadata": {
    "scrolled": false
   },
   "outputs": [
    {
     "name": "stdout",
     "output_type": "stream",
     "text": [
      "[0.07251321000661325, -0.0004605033005403869, 0.08405096355375125, 0.03325687112747826]\n",
      "[0.07251321000661325, -0.0004605033005403869, 0.08405096355375125, 0.03325687112747826]\n",
      "[0.07251321000661325, -0.0004605033005403869, 0.08405096355375125, 0.03325687112747826]\n"
     ]
    }
   ],
   "source": [
    "def gauss_iteration(a, b, k):\n",
    "    n = len(a)\n",
    "    f = [a[k][j] for j in range(n)]\n",
    "    s = b[k]\n",
    "    mu = [0 for i in range(n)]\n",
    "    for i in range(k + 1, n):\n",
    "        mu[i] = a[i][k] / a[k][k]\n",
    "    for i in range(k + 1, n):\n",
    "        for j in range(k, n):\n",
    "            a[i][j] -= mu[i] * f[j]\n",
    "        b[i] -= mu[i] * s\n",
    "#     print_system(a, b)\n",
    "#     print()\n",
    "        \n",
    "def gauss_solving(a, b):\n",
    "    n = len(a)\n",
    "    x = [0 for i in range(n)]\n",
    "    for i in range(n):\n",
    "        sum = 0\n",
    "        for j in range(n - i, n):\n",
    "            sum += a[n - i - 1][j] * x[j]\n",
    "        x[n - i - 1] = (b[n - i - 1] - sum) / a[n - i - 1][n - i - 1]\n",
    "    return x\n",
    "    \n",
    "\n",
    "def gauss(a, b):\n",
    "    n = len(a)\n",
    "    for k in range(n - 1):\n",
    "        gauss_iteration(a, b, k)\n",
    "    x = gauss_solving(a, b)\n",
    "    print(x)\n",
    "    \n",
    "def gauss_with_column_optimization(a, b):\n",
    "    n = len(a)\n",
    "    for k in range(n - 1):\n",
    "        max_value = -1\n",
    "        max_row_index = k\n",
    "        for i in range(k, n):\n",
    "            if abs(a[i][k]) > max_value:\n",
    "                max_value = abs(a[i][k])\n",
    "                max_row_index = i\n",
    "        a[k], a[max_row_index] = a[max_row_index], a[k]\n",
    "        b[k], b[max_row_index] = b[max_row_index], b[k]\n",
    "            \n",
    "        gauss_iteration(a, b, k)\n",
    "    x = gauss_solving(a, b)\n",
    "    print(x)\n",
    "    \n",
    "def gauss_with_full_optimization(a, b):\n",
    "    n = len(a)\n",
    "    s = [i for i in range(n)]\n",
    "    for k in range(n - 1):\n",
    "        max_value = -1\n",
    "        max_row_index = k\n",
    "        max_column_index = k\n",
    "        for i in range(k, n):\n",
    "            for j in range(k, n):\n",
    "                if abs(a[i][j]) > max_value:\n",
    "                    max_value = abs(a[i][j])\n",
    "                    max_row_index = i\n",
    "                    max_column_index = j\n",
    "        a[k], a[max_row_index] = a[max_row_index], a[k]\n",
    "        b[k], b[max_row_index] = b[max_row_index], b[k]\n",
    "        s[k], s[max_column_index] = s[max_column_index], s[k]\n",
    "        for i in range(n):\n",
    "            a[i][k], a[i][max_column_index] = a[i][max_column_index], a[i][k]\n",
    "            \n",
    "        gauss_iteration(a, b, k)\n",
    "    x = gauss_solving(a, b)\n",
    "    tmp  = [x[i] for i in range(n)]\n",
    "    for i in range(n):\n",
    "        x[s[i]] = tmp[i]\n",
    "    print(x)\n",
    "    \n",
    "def run_gauss(a, b):\n",
    "    gauss(deepcopy(a), deepcopy(b))\n",
    "    gauss_with_column_optimization(deepcopy(a), deepcopy(b))\n",
    "    gauss_with_full_optimization(deepcopy(a), deepcopy(b))\n",
    "run_gauss(example_matrix, example_b)"
   ]
  },
  {
   "cell_type": "code",
   "execution_count": 242,
   "metadata": {
    "scrolled": false
   },
   "outputs": [
    {
     "name": "stdout",
     "output_type": "stream",
     "text": [
      "[-0.5091160316568666, -1.112875539258004, 1.6123866835147436, -2.022499591369847, 1.55943496500788, -0.5175787396437692, -2.754914638383541, 3.8070394402086416, -0.07000707212754463, 0.9536792050829219]\n",
      "[-0.509116031656864, -1.1128755392579948, 1.612386683514736, -2.0224995913698387, 1.5594349650078836, -0.517578739643763, -2.7549146383835317, 3.8070394402086296, -0.07000707212754634, 0.953679205082909]\n",
      "[-0.5091160316568667, -1.1128755392580068, 1.6123866835147491, -2.0224995913698494, 1.5594349650078818, -0.5175787396437694, -2.754914638383545, 3.8070394402086474, -0.07000707212754488, 0.9536792050829223]\n"
     ]
    }
   ],
   "source": [
    "run_gauss(random_matrix, b)"
   ]
  },
  {
   "cell_type": "code",
   "execution_count": 243,
   "metadata": {
    "scrolled": false
   },
   "outputs": [
    {
     "name": "stdout",
     "output_type": "stream",
     "text": [
      "[-0.10573917803061504, 1.9715966009851347, -0.3627326086289616, 1.4638380313103674, 0.9263012313271531, -0.5709530073152287, 0.30622441292128383, -1.365687709467419, -0.45719741659530294, 0.6347929998851696]\n",
      "[-0.10573917803061504, 1.9715966009851347, -0.3627326086289616, 1.4638380313103674, 0.9263012313271531, -0.5709530073152287, 0.30622441292128383, -1.365687709467419, -0.45719741659530294, 0.6347929998851696]\n",
      "[-0.105739178030615, 1.971596600985135, -0.36273260862896156, 1.4638380313103674, 0.9263012313271533, -0.5709530073152288, 0.3062244129212838, -1.3656877094674187, -0.45719741659530294, 0.6347929998851695]\n"
     ]
    }
   ],
   "source": [
    "run_gauss(diagonal_matrix, b)"
   ]
  },
  {
   "cell_type": "code",
   "execution_count": 244,
   "metadata": {},
   "outputs": [
    {
     "name": "stdout",
     "output_type": "stream",
     "text": [
      "[-5578719.544472624, 483111456.60387146, -10307370614.111763, 93820240709.76974, -447912609046.58185, 1232141592418.8867, -2022586089987.789, 1955331520356.211, -1026822488152.2518, 225861602842.51245]\n",
      "[-5578916.323773313, 483128676.83515793, -10307740848.825562, 93823630642.45357, -447928869253.8801, 1232186493257.0999, -2022660030405.4104, 1955403194488.6482, -1026860213851.4545, 225869917623.43582]\n",
      "[-5578923.000073362, 483129233.88153946, -10307752523.595499, 93823736132.0453, -447929372122.3177, 1232187879057.1687, -2022662313531.0266, 1955405411989.1267, -1026861384370.5045, 225870176476.1284]\n"
     ]
    }
   ],
   "source": [
    "run_gauss(hilbert_matrix, b)"
   ]
  },
  {
   "cell_type": "markdown",
   "metadata": {},
   "source": [
    "# Метод простых итераций Якоби"
   ]
  },
  {
   "cell_type": "code",
   "execution_count": 249,
   "metadata": {
    "scrolled": false
   },
   "outputs": [
    {
     "name": "stdout",
     "output_type": "stream",
     "text": [
      "[0.07251321000661325, -0.0004605033005403887, 0.08405096355375126, 0.03325687112747826]\n"
     ]
    }
   ],
   "source": [
    "def matrix_vector_mul(a, b):\n",
    "    n = len(a)\n",
    "    m = len(b)\n",
    "    result = [0 for i in range(n)]\n",
    "    for i in range(n):\n",
    "        for j in range(m):\n",
    "            result[i] += a[i][j] * b[j]\n",
    "    return result\n",
    "\n",
    "def jacobi_iteration(x, c, d):\n",
    "    n = len(c)\n",
    "    x_new = matrix_vector_mul(c, x)\n",
    "    x_new = [x_new[i] + d[i] for i in range(n)]\n",
    "    return x_new\n",
    "\n",
    "def jacobi(a, b):\n",
    "    n = len(a)\n",
    "    c = [[(0 if i == j else - a[i][j] / a[i][i]) for j in range(n)] for i in range(n)]\n",
    "    d = [b[i] / a[i][i] for i in range(n)]\n",
    "    x = [1 for i in range(n)]\n",
    "    for k in range(10000):\n",
    "        x = jacobi_iteration(x, c, d)\n",
    "    print(x)\n",
    "    \n",
    "jacobi(example_matrix, example_b)"
   ]
  },
  {
   "cell_type": "markdown",
   "metadata": {},
   "source": [
    "Условие сходимости матрицы `C` выполняется лишь для матрицы с диагональным преобладанием. При подсчёте ответа методом простых итераций Якоби для рандомной матрицы и матрицы Гильберта видно, что значения расходятся."
   ]
  },
  {
   "cell_type": "code",
   "execution_count": 250,
   "metadata": {},
   "outputs": [
    {
     "name": "stdout",
     "output_type": "stream",
     "text": [
      "[nan, nan, nan, nan, nan, nan, nan, nan, nan, nan]\n"
     ]
    }
   ],
   "source": [
    "jacobi(random_matrix, b)"
   ]
  },
  {
   "cell_type": "code",
   "execution_count": 251,
   "metadata": {},
   "outputs": [
    {
     "name": "stdout",
     "output_type": "stream",
     "text": [
      "[-0.10573917803061503, 1.971596600985135, -0.3627326086289616, 1.4638380313103672, 0.9263012313271531, -0.5709530073152288, 0.30622441292128355, -1.365687709467419, -0.45719741659530294, 0.6347929998851696]\n"
     ]
    }
   ],
   "source": [
    "jacobi(diagonal_matrix, b)"
   ]
  },
  {
   "cell_type": "code",
   "execution_count": 252,
   "metadata": {},
   "outputs": [
    {
     "name": "stdout",
     "output_type": "stream",
     "text": [
      "[nan, nan, nan, nan, nan, nan, nan, nan, nan, nan]\n"
     ]
    }
   ],
   "source": [
    "jacobi(hilbert_matrix, b)"
   ]
  },
  {
   "cell_type": "code",
   "execution_count": null,
   "metadata": {},
   "outputs": [],
   "source": []
  },
  {
   "cell_type": "code",
   "execution_count": null,
   "metadata": {},
   "outputs": [],
   "source": []
  }
 ],
 "metadata": {
  "kernelspec": {
   "display_name": "Python 3",
   "language": "python",
   "name": "python3"
  },
  "language_info": {
   "codemirror_mode": {
    "name": "ipython",
    "version": 3
   },
   "file_extension": ".py",
   "mimetype": "text/x-python",
   "name": "python",
   "nbconvert_exporter": "python",
   "pygments_lexer": "ipython3",
   "version": "3.8.2"
  }
 },
 "nbformat": 4,
 "nbformat_minor": 4
}
