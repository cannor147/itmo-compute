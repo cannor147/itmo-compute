{
 "cells": [
  {
   "cell_type": "markdown",
   "metadata": {},
   "source": [
    "# Подготовка"
   ]
  },
  {
   "cell_type": "markdown",
   "metadata": {},
   "source": [
    "Сначала напишем функции для более-менее приемлемого отображения матриц. Также создадим матрицу по-меньше как пример, на котором можно будет тестировать дальнейшие функции."
   ]
  },
  {
   "cell_type": "code",
   "execution_count": 1,
   "metadata": {
    "pycharm": {
     "is_executing": false
    }
   },
   "outputs": [
    {
     "name": "stdout",
     "output_type": "stream",
     "text": [
      "(  100.00000  9.00000  5.00000  10.00000 )\n",
      "(  1.00000  100.00000  10.00000  4.00000 )\n",
      "(  5.00000  1.00000  100.00000  7.00000 )\n",
      "(  7.00000  3.00000  2.00000  100.00000 )\n",
      "[8, 1, 9, 4]\n"
     ]
    }
   ],
   "source": [
    "from copy import copy, deepcopy\n",
    "import random as random\n",
    "\n",
    "def print_matrix(matrix):\n",
    "    n = len(matrix)\n",
    "    m = len(matrix[0])\n",
    "    for i in range(n):\n",
    "        print(\"( \", end =\"\")\n",
    "        for j in range(m):\n",
    "            print(\"\" if matrix[i][j] < 0 else \" \", \"%.5f\" % matrix[i][j], sep = \"\", end = \" \")\n",
    "        print(\")\")\n",
    "        \n",
    "def print_system(matrix, vector):\n",
    "    n = len(matrix)\n",
    "    m = len(matrix[0])\n",
    "    for i in range(n):\n",
    "        print(\"( \", end =\"\")\n",
    "        for j in range(m):\n",
    "            print(\"\" if matrix[i][j] < 0 else \" \", \"%.5f\" % matrix[i][j], sep = \"\", end = \" \")\n",
    "        print(\")   \", end = \"\")\n",
    "        print(\"\" if vector[i] < 0 else \" \", \"%.5f\" % vector[i], sep = \"\")\n",
    "\n",
    "example_matrix = [[100, 9, 5, 10], [1, 100, 10, 4], [5, 1, 100, 7], [7, 3, 2, 100]]\n",
    "example_b = [8, 1, 9, 4]\n",
    "\n",
    "print_matrix(example_matrix)\n",
    "print(example_b)"
   ]
  },
  {
   "cell_type": "markdown",
   "metadata": {},
   "source": [
    "Также заранее подготовим некоторые математические операции с матрицами и векторами"
   ]
  },
  {
   "cell_type": "code",
   "execution_count": 2,
   "metadata": {},
   "outputs": [],
   "source": [
    "import math\n",
    "\n",
    "def matrix_vector_mul(a, b):\n",
    "    n = len(a)\n",
    "    m = len(b)\n",
    "    result = [0 for i in range(n)]\n",
    "    for i in range(n):\n",
    "        for j in range(m):\n",
    "            result[i] += a[i][j] * b[j]\n",
    "    return result\n",
    "\n",
    "def vector_norm(x):\n",
    "    max = 0\n",
    "    for i in range(len(x)):\n",
    "        if (abs(x[i]) > max):\n",
    "            max = abs(x[i])\n",
    "    return max\n",
    "\n",
    "def matrix_norm(a):\n",
    "    max_row_sum = 0\n",
    "    n = len(a)\n",
    "    for i in range(n):\n",
    "        row_sum = 0\n",
    "        for j in range(n):\n",
    "            row_sum += abs(a[i][j])\n",
    "        if row_sum > max_row_sum:\n",
    "            max_row_sum = row_sum\n",
    "    return max_row_sum\n",
    "\n",
    "def matrix_norm_2(a):\n",
    "    sum = 0\n",
    "    n = len(a)\n",
    "    for i in range(n):\n",
    "        for j in range(n):\n",
    "            sum += a[i][j] * a[i][j]\n",
    "    return math.sqrt(sum)"
   ]
  },
  {
   "cell_type": "markdown",
   "metadata": {},
   "source": [
    "# Генерация матриц"
   ]
  },
  {
   "cell_type": "markdown",
   "metadata": {},
   "source": [
    "Для начала зафиксируем размерность наших матриц `dim=10`, требуемую точность `eps=1e-12` и число `seed=30` для фиксированного рандома."
   ]
  },
  {
   "cell_type": "code",
   "execution_count": 3,
   "metadata": {},
   "outputs": [],
   "source": [
    "dim = 10\n",
    "eps = 1e-12\n",
    "seed = 30"
   ]
  },
  {
   "cell_type": "markdown",
   "metadata": {},
   "source": [
    "Следующим нашим пунктом будет генерация нашей системы `Ax=b`. Сгенерируем три возможные варианта матрицы `A` и один вариант вектора `b` (будем использовать его для всех трёх систем)."
   ]
  },
  {
   "cell_type": "markdown",
   "metadata": {},
   "source": [
    "## Рандомная матрица"
   ]
  },
  {
   "cell_type": "code",
   "execution_count": 4,
   "metadata": {
    "pycharm": {
     "is_executing": false
    },
    "scrolled": false
   },
   "outputs": [
    {
     "name": "stdout",
     "output_type": "stream",
     "text": [
      "(  0.53908  0.28920  0.03004  0.65364  0.21001  0.25728  0.39720  0.64158  0.98881  0.46153 )\n",
      "(  0.99349  0.99257  0.24268  0.07265  0.15990  0.84190  0.59955  0.91746  0.97217  0.65442 )\n",
      "(  0.53520  0.06763  0.02351  0.80529  0.67197  0.76301  0.56565  0.67389  0.63872  0.89518 )\n",
      "(  0.11175  0.49445  0.30919  0.82934  0.87708  0.25203  0.08034  0.24322  0.31462  0.76964 )\n",
      "(  0.40973  0.74990  0.30095  0.52374  0.18637  0.64538  0.51310  0.86266  0.94846  0.52002 )\n",
      "(  0.06826  0.93727  0.94484  0.47425  0.48565  0.93254  0.25367  0.25560  0.69523  0.67498 )\n",
      "(  0.68606  0.82801  0.51242  0.42014  0.22551  0.21334  0.36985  0.43174  0.73964  0.62003 )\n",
      "(  0.51073  0.38016  0.62545  0.38228  0.79730  0.64381  0.69472  0.37322  0.51790  0.72124 )\n",
      "(  0.95667  0.52877  0.32079  0.68928  0.11954  0.33461  0.03270  0.55280  0.25383  0.39176 )\n",
      "(  0.78753  0.63540  0.03697  0.44275  0.00671  0.82319  0.49649  0.85041  0.26465  0.82307 )\n"
     ]
    }
   ],
   "source": [
    "random.seed(seed)\n",
    "random_matrix = [[random.random() for j in range(dim)] for i in range(dim)]\n",
    "random_matrix_answers = [] # заранее заведём массив, куда будем складывать полученные ответы, чтобы в конце сравнить\n",
    "print_matrix(random_matrix)"
   ]
  },
  {
   "cell_type": "markdown",
   "metadata": {},
   "source": [
    "## Матрица с диагональным преобладанием"
   ]
  },
  {
   "cell_type": "code",
   "execution_count": 5,
   "metadata": {
    "pycharm": {
     "is_executing": false
    }
   },
   "outputs": [
    {
     "name": "stdout",
     "output_type": "stream",
     "text": [
      "( -0.73077 -0.06727  0.03609  0.00375  0.08157 -0.02621 -0.03210 -0.04957 -0.08006 -0.12339 )\n",
      "( -0.05640  0.55588  0.00713 -0.00248 -0.08486  0.07081  0.08040  0.05961  0.07101 -0.06731 )\n",
      "( -0.03985  0.07294 -0.96864  0.02927  0.05094 -0.01813  0.06278  0.04991 -0.08391 -0.09226 )\n",
      "( -0.07749 -0.09352  0.05788  0.81272 -0.04746 -0.02547 -0.02410  0.04178 -0.04877 -0.08354 )\n",
      "(  0.12624 -0.06978 -0.04233  0.09096  0.72137 -0.01577  0.04416 -0.00432  0.07295 -0.03350 )\n",
      "(  0.01551  0.09707 -0.04361  0.00820 -0.10241 -0.88014 -0.09363 -0.02167  0.06462  0.05329 )\n",
      "(  0.06613 -0.01491  0.07227  0.11265  0.08483 -0.02621 -0.51066 -0.03586 -0.07153 -0.01562 )\n",
      "(  0.09145 -0.06540  0.03843 -0.07555  0.01891  0.02887  0.08846 -0.64393  0.07554  0.01739 )\n",
      "( -0.09706  0.09893  0.09160 -0.01426  0.03225 -0.01163 -0.08827  0.05499 -0.74054  0.01102 )\n",
      "(  0.08680 -0.03915  0.05735  0.03586 -0.08805  0.05401 -0.05044 -0.00703  0.08131  0.76679 )\n"
     ]
    }
   ],
   "source": [
    "random.seed(seed)\n",
    "def random_sign():\n",
    "    return 1 if random.random() < 0.5 else -1\n",
    "def random_with_major(dim):\n",
    "    l = [random.random() for i in range(dim)]\n",
    "    s = sum(l)\n",
    "    l = [l[i]/(2 * s) for i in range(dim)]\n",
    "    return l\n",
    "\n",
    "diagonal_matrix = [[0 for j in range(dim)] for i in range(dim)]\n",
    "for i in range(dim):\n",
    "    l = random_with_major(dim - 1)\n",
    "    for j in range(dim):\n",
    "        if j < i:\n",
    "            diagonal_matrix[i][j] = l[j]\n",
    "        elif j > i:\n",
    "            diagonal_matrix[i][j] = l[j - 1]\n",
    "        else:\n",
    "            diagonal_matrix[i][j] = random.uniform(0.5, 1)\n",
    "        diagonal_matrix[i][j] *= random_sign()\n",
    "diagonal_matrix_answers = [] # заранее заведём массив, куда будем складывать полученные ответы, чтобы в конце сравнить\n",
    "print_matrix(diagonal_matrix)"
   ]
  },
  {
   "cell_type": "markdown",
   "metadata": {},
   "source": [
    "## Матрица Гильберта"
   ]
  },
  {
   "cell_type": "code",
   "execution_count": 6,
   "metadata": {
    "pycharm": {
     "is_executing": false
    },
    "scrolled": true
   },
   "outputs": [
    {
     "name": "stdout",
     "output_type": "stream",
     "text": [
      "(  1.00000  0.50000  0.33333  0.25000  0.20000  0.16667  0.14286  0.12500  0.11111  0.10000 )\n",
      "(  0.50000  0.33333  0.25000  0.20000  0.16667  0.14286  0.12500  0.11111  0.10000  0.09091 )\n",
      "(  0.33333  0.25000  0.20000  0.16667  0.14286  0.12500  0.11111  0.10000  0.09091  0.08333 )\n",
      "(  0.25000  0.20000  0.16667  0.14286  0.12500  0.11111  0.10000  0.09091  0.08333  0.07692 )\n",
      "(  0.20000  0.16667  0.14286  0.12500  0.11111  0.10000  0.09091  0.08333  0.07692  0.07143 )\n",
      "(  0.16667  0.14286  0.12500  0.11111  0.10000  0.09091  0.08333  0.07692  0.07143  0.06667 )\n",
      "(  0.14286  0.12500  0.11111  0.10000  0.09091  0.08333  0.07692  0.07143  0.06667  0.06250 )\n",
      "(  0.12500  0.11111  0.10000  0.09091  0.08333  0.07692  0.07143  0.06667  0.06250  0.05882 )\n",
      "(  0.11111  0.10000  0.09091  0.08333  0.07692  0.07143  0.06667  0.06250  0.05882  0.05556 )\n",
      "(  0.10000  0.09091  0.08333  0.07692  0.07143  0.06667  0.06250  0.05882  0.05556  0.05263 )\n"
     ]
    }
   ],
   "source": [
    "hilbert_matrix = [[1/(1 + i + j) for j in range(dim)] for i in range(dim)]\n",
    "hilbert_matrix_answers = [] # заранее заведём массив, куда будем складывать полученные ответы, чтобы в конце сравнить\n",
    "print_matrix(hilbert_matrix)"
   ]
  },
  {
   "cell_type": "markdown",
   "metadata": {},
   "source": [
    "## Вектор b (будем использовать его для каждой матрицы)"
   ]
  },
  {
   "cell_type": "code",
   "execution_count": 7,
   "metadata": {
    "pycharm": {
     "is_executing": false
    }
   },
   "outputs": [
    {
     "name": "stdout",
     "output_type": "stream",
     "text": [
      "[0.5390815646058106, 0.2891964436397205, 0.03003690855112706, 0.6536357538927619, 0.21000869554973112, 0.2572769749796092, 0.39719826263322744, 0.6415781537746728, 0.9888112104037214, 0.46153301006262504]\n"
     ]
    }
   ],
   "source": [
    "random.seed(seed)\n",
    "b = [random.random() for i in range(dim)]\n",
    "print(b)"
   ]
  },
  {
   "cell_type": "markdown",
   "metadata": {},
   "source": [
    "# Метод Гаусса"
   ]
  },
  {
   "cell_type": "markdown",
   "metadata": {},
   "source": [
    "## Реализация метода"
   ]
  },
  {
   "cell_type": "markdown",
   "metadata": {},
   "source": [
    "Для сравнения точности результатов рассмотрим классический метод Гаусса, с выбором ведущего элемента в столбце и с выбором ведущего элемента по всей матрице. Поскольку метод не опирается на сходимость, а использует лишь линейные операции, то все три метода приведут нас к какому-нибудь приближению решения."
   ]
  },
  {
   "cell_type": "code",
   "execution_count": 8,
   "metadata": {
    "pycharm": {
     "is_executing": false
    },
    "scrolled": false
   },
   "outputs": [
    {
     "name": "stdout",
     "output_type": "stream",
     "text": [
      "[0.07251321000661325, -0.0004605033005403869, 0.08405096355375125, 0.03325687112747826]\n",
      "[0.07251321000661325, -0.0004605033005403869, 0.08405096355375125, 0.03325687112747826]\n",
      "[0.07251321000661325, -0.0004605033005403869, 0.08405096355375125, 0.03325687112747826]\n"
     ]
    }
   ],
   "source": [
    "def gauss_iteration(a, b, k):\n",
    "    n = len(a)\n",
    "    f = [a[k][j] for j in range(n)]\n",
    "    s = b[k]\n",
    "    mu = [0 for i in range(n)]\n",
    "    for i in range(k + 1, n):\n",
    "        mu[i] = a[i][k] / a[k][k]\n",
    "    for i in range(k + 1, n):\n",
    "        for j in range(k, n):\n",
    "            a[i][j] -= mu[i] * f[j]\n",
    "        b[i] -= mu[i] * s\n",
    "        \n",
    "def gauss_solving(a, b):\n",
    "    n = len(a)\n",
    "    x = [0 for i in range(n)]\n",
    "    for i in range(n):\n",
    "        sum = 0\n",
    "        for j in range(n - i, n):\n",
    "            sum += a[n - i - 1][j] * x[j]\n",
    "        x[n - i - 1] = (b[n - i - 1] - sum) / a[n - i - 1][n - i - 1]\n",
    "    return x\n",
    "    \n",
    "\n",
    "def gauss(a, b):\n",
    "    n = len(a)\n",
    "    for k in range(n - 1):\n",
    "        gauss_iteration(a, b, k)\n",
    "    x = gauss_solving(a, b)\n",
    "    return x\n",
    "    \n",
    "def gauss_with_column_optimization(a, b):\n",
    "    n = len(a)\n",
    "    for k in range(n - 1):\n",
    "        max_value = -1\n",
    "        max_row_index = k\n",
    "        for i in range(k, n):\n",
    "            if abs(a[i][k]) > max_value:\n",
    "                max_value = abs(a[i][k])\n",
    "                max_row_index = i\n",
    "        a[k], a[max_row_index] = a[max_row_index], a[k]\n",
    "        b[k], b[max_row_index] = b[max_row_index], b[k]\n",
    "            \n",
    "        gauss_iteration(a, b, k)\n",
    "    x = gauss_solving(a, b)\n",
    "    return x\n",
    "    \n",
    "def gauss_with_full_optimization(a, b):\n",
    "    n = len(a)\n",
    "    s = [i for i in range(n)]\n",
    "    for k in range(n - 1):\n",
    "        max_value = -1\n",
    "        max_row_index = k\n",
    "        max_column_index = k\n",
    "        for i in range(k, n):\n",
    "            for j in range(k, n):\n",
    "                if abs(a[i][j]) > max_value:\n",
    "                    max_value = abs(a[i][j])\n",
    "                    max_row_index = i\n",
    "                    max_column_index = j\n",
    "        a[k], a[max_row_index] = a[max_row_index], a[k]\n",
    "        b[k], b[max_row_index] = b[max_row_index], b[k]\n",
    "        s[k], s[max_column_index] = s[max_column_index], s[k]\n",
    "        for i in range(n):\n",
    "            a[i][k], a[i][max_column_index] = a[i][max_column_index], a[i][k]\n",
    "            \n",
    "        gauss_iteration(a, b, k)\n",
    "    x = gauss_solving(a, b)\n",
    "    tmp  = [x[i] for i in range(n)]\n",
    "    for i in range(n):\n",
    "        x[s[i]] = tmp[i]\n",
    "    return x\n",
    "    \n",
    "def run_gauss(a, b, answers):\n",
    "    gauss_answers = []\n",
    "    gauss_answers.append(gauss(deepcopy(a), deepcopy(b)))\n",
    "    gauss_answers.append(gauss_with_column_optimization(deepcopy(a), deepcopy(b)))\n",
    "    gauss_answers.append(gauss_with_full_optimization(deepcopy(a), deepcopy(b)))\n",
    "    \n",
    "    for i in range(len(gauss_answers)):\n",
    "        answers.append(gauss_answers[i])\n",
    "        print(gauss_answers[i])\n",
    "\n",
    "run_gauss(example_matrix, example_b, [])"
   ]
  },
  {
   "cell_type": "markdown",
   "metadata": {},
   "source": [
    "## Вычисления для сгенерированных матриц"
   ]
  },
  {
   "cell_type": "code",
   "execution_count": 9,
   "metadata": {
    "pycharm": {
     "is_executing": false
    },
    "scrolled": false
   },
   "outputs": [
    {
     "name": "stdout",
     "output_type": "stream",
     "text": [
      "[3.3654277594220465, 10.980756075169433, -11.053567260723272, 10.504049960145258, 1.416614769458203, 5.419133933272693, 12.87967925303474, -15.823807746697645, -1.873611035431915, -12.539104841018592]\n",
      "[3.3654277594220305, 10.98075607516942, -11.053567260723286, 10.504049960145236, 1.4166147694581923, 5.419133933272677, 12.87967925303471, -15.82380774669762, -1.8736110354319073, -12.539104841018545]\n",
      "[3.3654277594220448, 10.980756075169463, -11.053567260723332, 10.504049960145275, 1.4166147694582014, 5.419133933272702, 12.879679253034759, -15.823807746697685, -1.8736110354319122, -12.5391048410186]\n"
     ]
    }
   ],
   "source": [
    "run_gauss(random_matrix, b, random_matrix_answers)"
   ]
  },
  {
   "cell_type": "code",
   "execution_count": 10,
   "metadata": {
    "pycharm": {
     "is_executing": false
    },
    "scrolled": false
   },
   "outputs": [
    {
     "name": "stdout",
     "output_type": "stream",
     "text": [
      "[-0.6579984341032276, 1.021393913949036, 0.05791318134497171, 0.9629400706963428, 0.5498183468691803, -0.21147674749937945, -0.33229671860103854, -1.4544369234949168, -1.1525178943920598, 0.8442168444015744]\n",
      "[-0.6579984341032276, 1.021393913949036, 0.05791318134497171, 0.9629400706963428, 0.5498183468691803, -0.21147674749937945, -0.33229671860103854, -1.4544369234949168, -1.1525178943920598, 0.8442168444015744]\n",
      "[-0.6579984341032273, 1.0213939139490358, 0.05791318134497173, 0.9629400706963429, 0.5498183468691805, -0.21147674749937956, -0.3322967186010383, -1.4544369234949166, -1.15251789439206, 0.8442168444015744]\n"
     ]
    }
   ],
   "source": [
    "run_gauss(diagonal_matrix, b, diagonal_matrix_answers)"
   ]
  },
  {
   "cell_type": "code",
   "execution_count": 11,
   "metadata": {
    "pycharm": {
     "is_executing": false
    }
   },
   "outputs": [
    {
     "name": "stdout",
     "output_type": "stream",
     "text": [
      "[618162.4297733218, -58693906.93944507, 1335686894.848783, -12760607941.582708, 63278323924.11634, -179500822587.6829, 302252284953.04663, -298547715701.79395, 159690872954.2671, -35690729241.4723]\n",
      "[618192.5818247707, -58696544.17338389, 1335743573.0921884, -12761126739.157534, 63280811790.64066, -179507691197.0002, 302263593948.5897, -298558676531.06396, 159696641492.73138, -35692000499.73094]\n",
      "[618193.2590446384, -58696599.85349329, 1335744732.8637166, -12761137203.239378, 63280861728.495094, -179507829156.4871, 302263821957.1318, -298558898750.2293, 159696759205.35406, -35692026621.36878]\n"
     ]
    }
   ],
   "source": [
    "run_gauss(hilbert_matrix, b, hilbert_matrix_answers)"
   ]
  },
  {
   "cell_type": "markdown",
   "metadata": {},
   "source": [
    "# Метод простых итераций Якоби"
   ]
  },
  {
   "cell_type": "markdown",
   "metadata": {},
   "source": [
    "## Реализация метода"
   ]
  },
  {
   "cell_type": "markdown",
   "metadata": {},
   "source": [
    "Сначала необходимо разобраться со сходимостью и условием остановки. Учтём, что не все матрицы могут удовлетворять необходимым условиям сходимости, поэтому введём ограничение на количество итераций `r=1000`."
   ]
  },
  {
   "cell_type": "code",
   "execution_count": 12,
   "metadata": {},
   "outputs": [],
   "source": [
    "jacobi_r = 1000"
   ]
  },
  {
   "cell_type": "markdown",
   "metadata": {},
   "source": [
    "Теперь можно реализовать наш метод. В качестве способа выбора матрицы `B` и вектора `c` (здесь и далее они будут именоваться как `C` и `d` ввиду коллизии с вектором `b`) мы возьмём способ Якоби (как на лекции). Также напишем функцию, определяющую, удовлетворяет ли матрица `C` достаточному условию сходимости: `||C||<1`."
   ]
  },
  {
   "cell_type": "code",
   "execution_count": 13,
   "metadata": {
    "pycharm": {
     "is_executing": false
    },
    "scrolled": false
   },
   "outputs": [
    {
     "name": "stdout",
     "output_type": "stream",
     "text": [
      "[0.07251321000626626, -0.0004605033007654743, 0.08405096355352445, 0.03325687112725102]\n"
     ]
    }
   ],
   "source": [
    "def jacobi_sufficient_condition(c):\n",
    "    return True if matrix_norm(c) < 1 else False\n",
    "\n",
    "def jacobi_iteration(x, c, d):\n",
    "    n = len(c)\n",
    "    x_new = matrix_vector_mul(c, x)\n",
    "    x_new = [x_new[i] + d[i] for i in range(n)]\n",
    "    return x_new\n",
    "\n",
    "def jacobi(a, b):\n",
    "    n = len(a)\n",
    "    c = [[(0 if i == j else - a[i][j] / a[i][i]) for j in range(n)] for i in range(n)]\n",
    "    d = [b[i] / a[i][i] for i in range(n)]\n",
    "    x = [0 for i in range(n)]\n",
    "    \n",
    "    if not jacobi_sufficient_condition(c):\n",
    "        print(\"Warning: Достаточное условие сходимости не выполняется\")\n",
    "    \n",
    "    for k in range(jacobi_r):\n",
    "        x_new = jacobi_iteration(x, c, d)\n",
    "        x_delta = [x_new[i] - x[i] for i in range(n)]\n",
    "        if (vector_norm(x_delta) < eps):\n",
    "            break\n",
    "        x = x_new\n",
    "    return x\n",
    "    \n",
    "def run_jacobi(a, b, answers):\n",
    "    x = jacobi(deepcopy(a), deepcopy(b))\n",
    "    answers.append(x)\n",
    "    print(x)\n",
    "    \n",
    "run_jacobi(example_matrix, example_b, [])"
   ]
  },
  {
   "cell_type": "markdown",
   "metadata": {},
   "source": [
    "## Вычисления для сгенерированных матриц"
   ]
  },
  {
   "cell_type": "code",
   "execution_count": 14,
   "metadata": {
    "pycharm": {
     "is_executing": false
    }
   },
   "outputs": [
    {
     "name": "stdout",
     "output_type": "stream",
     "text": [
      "Warning: Достаточное условие сходимости не выполняется\n",
      "[inf, inf, nan, inf, inf, inf, inf, inf, inf, inf]\n"
     ]
    }
   ],
   "source": [
    "run_jacobi(random_matrix, b, random_matrix_answers)"
   ]
  },
  {
   "cell_type": "code",
   "execution_count": 15,
   "metadata": {
    "pycharm": {
     "is_executing": false
    }
   },
   "outputs": [
    {
     "name": "stdout",
     "output_type": "stream",
     "text": [
      "[-0.6579984341031145, 1.0213939139497208, 0.05791318134506876, 0.9629400706963722, 0.5498183468694606, -0.21147674749931192, -0.33229671860111215, -1.4544369234950005, -1.1525178943919123, 0.8442168444017967]\n"
     ]
    }
   ],
   "source": [
    "run_jacobi(diagonal_matrix, b, diagonal_matrix_answers)"
   ]
  },
  {
   "cell_type": "code",
   "execution_count": 16,
   "metadata": {
    "pycharm": {
     "is_executing": false
    }
   },
   "outputs": [
    {
     "name": "stdout",
     "output_type": "stream",
     "text": [
      "Warning: Достаточное условие сходимости не выполняется\n",
      "[-inf, nan, nan, nan, nan, nan, nan, nan, nan, nan]\n"
     ]
    }
   ],
   "source": [
    "run_jacobi(hilbert_matrix, b, hilbert_matrix_answers)"
   ]
  },
  {
   "cell_type": "markdown",
   "metadata": {},
   "source": [
    "## Анализ"
   ]
  },
  {
   "cell_type": "markdown",
   "metadata": {},
   "source": [
    "Условие сходимости матрицы `C` выполняется лишь для матрицы с диагональным преобладанием. При подсчёте ответа методом простых итераций Якоби для рандомной матрицы и матрицы Гильберта видно, что значения расходятся и устремляются в бесконечность."
   ]
  },
  {
   "cell_type": "markdown",
   "metadata": {
    "pycharm": {
     "name": "#%% md\n"
    }
   },
   "source": [
    "# Метод Зейделя"
   ]
  },
  {
   "cell_type": "markdown",
   "metadata": {},
   "source": [
    "## Реализация метода"
   ]
  },
  {
   "cell_type": "markdown",
   "metadata": {},
   "source": [
    "Аналогично методу простых итераций Якоби введём ограничение на количество итераций `r=10000` (на порядок выше)."
   ]
  },
  {
   "cell_type": "code",
   "execution_count": 72,
   "metadata": {},
   "outputs": [],
   "source": [
    "seidel_r = 10000"
   ]
  },
  {
   "cell_type": "markdown",
   "metadata": {},
   "source": [
    "В качестве способа выбора матрицы `C` и вектора `d` снова возьмём способ Якоби. Аналогично напишем функцию, определяющую, удовлетворяют ли `C1` и `C2` достаточному условию сходимости: `||C1||+||C2||<1`, однако помним, что здесь используется уже другая норма."
   ]
  },
  {
   "cell_type": "code",
   "execution_count": 17,
   "metadata": {
    "pycharm": {
     "is_executing": false,
     "name": "#%%\n"
    }
   },
   "outputs": [
    {
     "name": "stdout",
     "output_type": "stream",
     "text": [
      "[0.0725132100064929, -0.0004605033005458259, 0.0840509635537701, 0.033256871127486466]\n"
     ]
    }
   ],
   "source": [
    "def seidel_sufficient_condition(c1, c2):\n",
    "    return True if matrix_norm_2(c1) + matrix_norm_2(c2) < 1 else False\n",
    "\n",
    "def seidel_iteration(x, c1, c2, d):\n",
    "    n = len(x)\n",
    "    x_new = matrix_vector_mul(c2, x)\n",
    "    x_new = [x_new[i] + d[i] for i in range(n)]\n",
    "    for i in range(n):\n",
    "        for j in range(n):\n",
    "            x_new[i] += c1[i][j] * x_new[j]\n",
    "    return x_new\n",
    "\n",
    "def seidel(a, b):\n",
    "    n = len(a)\n",
    "    c = [[(0 if i == j else - a[i][j] / a[i][i]) for j in range(n)] for i in range(n)]\n",
    "    c1 = [[c[i][j] if i > j else 0 for j in range(n)] for i in range(n)]\n",
    "    c2 = [[c[i][j] if i < j else 0 for j in range(n)] for i in range(n)]\n",
    "    d = [b[i] / a[i][i] for i in range(n)]\n",
    "    x = [0 for i in range(n)]\n",
    "    \n",
    "    if not seidel_sufficient_condition(c1, c2):\n",
    "        print(\"Warning: Достаточное условие сходимости не выполняется\")\n",
    "    \n",
    "    for i in range(seidel_r):\n",
    "        x_new = seidel_iteration(x, c1, c2, d)\n",
    "        x_delta = [x_new[i] - x[i] for i in range(n)]\n",
    "        if (vector_norm(x_delta) < eps):\n",
    "            break\n",
    "        x = x_new\n",
    "    print(x)\n",
    "\n",
    "seidel(example_matrix, example_b)"
   ]
  },
  {
   "cell_type": "markdown",
   "metadata": {},
   "source": [
    "## Вычисления для сгенерированных матриц"
   ]
  },
  {
   "cell_type": "code",
   "execution_count": 18,
   "metadata": {
    "pycharm": {
     "is_executing": false,
     "name": "#%%\n"
    }
   },
   "outputs": [
    {
     "name": "stdout",
     "output_type": "stream",
     "text": [
      "Warning: Достаточное условие сходимости не выполняется\n",
      "[6.480954427807224e+306, -3.8292607884400445e+306, -1.7254098720141844e+307, 9.869089062895129e+306, 1.567319087007848e+307, 1.0209868641245113e+307, -6.5764855579138025e+305, -3.0569902872167213e+307, 2.408187294371015e+307, 6.121111292672282e+306]\n"
     ]
    }
   ],
   "source": [
    "seidel(random_matrix, b)"
   ]
  },
  {
   "cell_type": "code",
   "execution_count": 19,
   "metadata": {
    "pycharm": {
     "is_executing": false,
     "name": "#%%\n"
    }
   },
   "outputs": [
    {
     "name": "stdout",
     "output_type": "stream",
     "text": [
      "Warning: Достаточное условие сходимости не выполняется\n",
      "[-0.6579984341036822, 1.0213939139486181, 0.057913181345041614, 0.9629400706962113, 0.5498183468692421, -0.21147674749953416, -0.3322967186010771, -1.4544369234949563, -1.152517894392044, 0.8442168444016188]\n"
     ]
    }
   ],
   "source": [
    "seidel(diagonal_matrix, b)"
   ]
  },
  {
   "cell_type": "code",
   "execution_count": 20,
   "metadata": {
    "pycharm": {
     "is_executing": false,
     "name": "#%%\n"
    },
    "scrolled": true
   },
   "outputs": [
    {
     "name": "stdout",
     "output_type": "stream",
     "text": [
      "Warning: Достаточное условие сходимости не выполняется\n",
      "[166.87803573595082, -2228.7254311401966, -1214.75099858866, 38272.504998680466, -53206.51484997787, -16168.544559361493, 2800.53629633494, 33230.34300306463, 70530.89435197509, -72697.77613467716]\n"
     ]
    }
   ],
   "source": [
    "seidel(hilbert_matrix, b)"
   ]
  },
  {
   "cell_type": "markdown",
   "metadata": {},
   "source": [
    "## Анализ"
   ]
  },
  {
   "cell_type": "markdown",
   "metadata": {},
   "source": [
    "Можно заметить, что хоть достаточное условие сходимости не было выполнено ни для единого вариант матрицы `A`, для двух из трёх вариантов сходимость всё же наблюдается. Хоть и на первый взгляд может показаться, что сходимость наблюдается лишь для диагональной матрицы, где значения очень схожи с полученными другими методами, это не так. Матрица Гильберта обладает слишком плохой обусловленностью, поэтому для неё скорость сходимости очень низкая, но тем не менее сходимость есть (это можно увидеть, если воспользоваться последовательной релаксацией, увеличив скорость сходимости)."
   ]
  },
  {
   "cell_type": "markdown",
   "metadata": {
    "pycharm": {
     "name": "#%% md\n"
    }
   },
   "source": [
    "# Метод Зейделя с релаксацией"
   ]
  },
  {
   "cell_type": "markdown",
   "metadata": {},
   "source": [
    "## Реализация метода"
   ]
  },
  {
   "cell_type": "markdown",
   "metadata": {},
   "source": [
    "Поскольку выбор `w` ложится на наши плечи, будем брать их равномерно на промежутке `(0;2)`. Здесь мы рассматриваем всего `step_count=5` значений в силу отсутствия сильной нужды, однако при более тщательном дроблении (скажем, `step_count=200`) общая картина схожа."
   ]
  },
  {
   "cell_type": "code",
   "execution_count": 68,
   "metadata": {
    "pycharm": {
     "is_executing": false,
     "name": "#%%\n"
    },
    "scrolled": false
   },
   "outputs": [
    {
     "name": "stdout",
     "output_type": "stream",
     "text": [
      "[0.0725132100046756, -0.0004605032990018713, 0.08405096355380991, 0.03325687112724326]\n",
      "[0.07251321000613141, -0.00046050330022891396, 0.08405096355378082, 0.033256871127437394]\n",
      "[0.07251321000613141, -0.00046050330022891396, 0.08405096355378082, 0.033256871127437394]\n",
      "[0.07251321000613141, -0.00046050330022891396, 0.08405096355378082, 0.033256871127437394]\n"
     ]
    }
   ],
   "source": [
    "def seidel_relaxed_iteration(x, c1, c2, d, w):\n",
    "    x_new = seidel_iteration(x, c1, c2, d)\n",
    "    x_new = [x[i] + w * (x_new[i] - x[i]) for i in range(len(x))]\n",
    "    return x_new\n",
    "\n",
    "def seidel_relaxed(a, b, possible_w):\n",
    "    n = len(a)\n",
    "    c = [[(0 if i == j else - a[i][j] / a[i][i]) for j in range(n)] for i in range(n)]\n",
    "    c1 = [[c[i][j] if i > j else 0 for j in range(n)] for i in range(n)]\n",
    "    c2 = [[c[i][j] if i < j else 0 for j in range(n)] for i in range(n)]\n",
    "    d = [b[i] / a[i][i] for i in range(n)]\n",
    "    x = [0 for i in range(n)]\n",
    "    \n",
    "    if not seidel_sufficient_condition(c1, c2):\n",
    "        print(\"Warning: Достаточное условие сходимости не выполняется\")\n",
    "    \n",
    "    for k in range(len(possible_w)):\n",
    "        for i in range(seidel_r):\n",
    "            x_new = seidel_relaxed_iteration(x, c1, c2, d, possible_w[k])\n",
    "            x_delta = [x_new[i] - x[i] for i in range(n)]\n",
    "            if (vector_norm(x_delta) < eps):\n",
    "                break\n",
    "            x = x_new\n",
    "        print(x)\n",
    "    \n",
    "def run_seidel_relaxed(a, b, step_count = 5):\n",
    "    step = 2 / (step_count + 1)\n",
    "    seidel_relaxed(a, b, [step * i for i in range(1, step_count + 1)])\n",
    "    \n",
    "run_seidel_relaxed(example_matrix, example_b)"
   ]
  },
  {
   "cell_type": "markdown",
   "metadata": {},
   "source": [
    "## Вычисления для сгенерированных матриц"
   ]
  },
  {
   "cell_type": "code",
   "execution_count": 69,
   "metadata": {
    "pycharm": {
     "is_executing": false,
     "name": "#%%\n"
    }
   },
   "outputs": [
    {
     "name": "stdout",
     "output_type": "stream",
     "text": [
      "Warning: Достаточное условие сходимости не выполняется\n",
      "[2.748553037856334e+306, -1.6755376087723826e+306, -3.181936827838939e+306, 2.7929407145369942e+306, 3.7767964627983445e+306, 2.4033493046408422e+306, -1.4888944652401635e+306, -6.570485307794269e+306, -9.177521667704417e+305, 2.851656492665788e+306]\n",
      "[2.748553037856334e+306, -1.6755376087723826e+306, -3.181936827838939e+306, 2.7929407145369942e+306, 3.7767964627983445e+306, 2.4033493046408422e+306, -1.4888944652401635e+306, -6.570485307794269e+306, -9.177521667704417e+305, 2.851656492665788e+306]\n",
      "[2.748553037856334e+306, -1.6755376087723826e+306, -3.181936827838939e+306, 2.7929407145369942e+306, 3.7767964627983445e+306, 2.4033493046408422e+306, -1.4888944652401635e+306, -6.570485307794269e+306, -9.177521667704417e+305, 2.851656492665788e+306]\n",
      "[2.748553037856334e+306, -1.6755376087723826e+306, -3.181936827838939e+306, 2.7929407145369942e+306, 3.7767964627983445e+306, 2.4033493046408422e+306, -1.4888944652401635e+306, -6.570485307794269e+306, -9.177521667704417e+305, 2.851656492665788e+306]\n"
     ]
    }
   ],
   "source": [
    "run_seidel_relaxed(random_matrix, b)"
   ]
  },
  {
   "cell_type": "code",
   "execution_count": 70,
   "metadata": {
    "pycharm": {
     "is_executing": false,
     "name": "#%%\n"
    }
   },
   "outputs": [
    {
     "name": "stdout",
     "output_type": "stream",
     "text": [
      "Warning: Достаточное условие сходимости не выполняется\n",
      "[-0.6579984341009305, 1.021393913948726, 0.057913181344729295, 0.9629400706954171, 0.5498183468696464, -0.21147674749911974, -0.33229671860097343, -1.4544369234947896, -1.1525178943923655, 0.844216844401384]\n",
      "[-0.6579984341026812, 1.0213939139490067, 0.05791318134495977, 0.9629400706961613, 0.5498183468692829, -0.21147674749936055, -0.3322967186009742, -1.4544369234949075, -1.1525178943921324, 0.844216844401533]\n",
      "[-0.6579984341026812, 1.0213939139490067, 0.05791318134495977, 0.9629400706961613, 0.5498183468692829, -0.21147674749936055, -0.3322967186009742, -1.4544369234949075, -1.1525178943921324, 0.844216844401533]\n",
      "[-0.6579984341026812, 1.0213939139490067, 0.05791318134495977, 0.9629400706961613, 0.5498183468692829, -0.21147674749936055, -0.3322967186009742, -1.4544369234949075, -1.1525178943921324, 0.844216844401533]\n"
     ]
    }
   ],
   "source": [
    "run_seidel_relaxed(diagonal_matrix, b)"
   ]
  },
  {
   "cell_type": "code",
   "execution_count": 71,
   "metadata": {
    "pycharm": {
     "is_executing": false,
     "name": "#%%\n"
    },
    "scrolled": true
   },
   "outputs": [
    {
     "name": "stdout",
     "output_type": "stream",
     "text": [
      "Warning: Достаточное условие сходимости не выполняется\n",
      "[24.99897645568611, -648.073843625025, 165.2117308294186, 13037.089235420031, -21724.166074100467, -5181.137827787999, 2824.271789081107, 14311.658665135134, 27901.96083578294, -30990.8255751748]\n",
      "[197.01601681993216, -2437.67005316736, -2927.910841937961, 47884.961580654104, -63066.169585268755, -20130.920607780077, 2088.630281492735, 38988.68567242142, 84721.88898449685, -85900.42579019081]\n",
      "[254.45221897610483, -1432.675273439487, -21985.42321052575, 113677.68569869568, -117453.55621759346, -45788.21106726777, -7226.391094035747, 69434.78832612201, 169600.29277237336, -159979.24884901682]\n",
      "[146.11829394087, 3256.826345800232, -60144.78699299287, 212310.20902299564, -181866.84580076378, -82064.44886758842, -27499.716887784485, 103049.82727210018, 281924.6732786858, -250301.5582056398]\n"
     ]
    }
   ],
   "source": [
    "run_seidel_relaxed(hilbert_matrix, b)"
   ]
  },
  {
   "cell_type": "markdown",
   "metadata": {},
   "source": [
    "## Анализ"
   ]
  },
  {
   "cell_type": "markdown",
   "metadata": {},
   "source": [
    "К сожалению, последовательная релаксация не выручила нас с рандомной матрицей: сходимость не образовалась. Для матрицы Гильберта скорость сходимости выросла, но не сильно:"
   ]
  },
  {
   "cell_type": "code",
   "execution_count": 73,
   "metadata": {},
   "outputs": [
    {
     "name": "stdout",
     "output_type": "stream",
     "text": [
      "Warning: Достаточное условие сходимости не выполняется\n",
      "[166.87803573595082, -2228.7254311401966, -1214.75099858866, 38272.504998680466, -53206.51484997787, -16168.544559361493, 2800.53629633494, 33230.34300306463, 70530.89435197509, -72697.77613467716]\n",
      "[230.12090339838272, 34.40549023815782, -35213.87535978945, 149833.9343318525, -142421.49909944693, -59288.039803060165, -14106.291540064383, 82741.4965657354, 211842.79563326063, -194672.54842455257]\n"
     ]
    }
   ],
   "source": [
    "seidel_relaxed(hilbert_matrix, b, [1, 1.999999999])"
   ]
  },
  {
   "cell_type": "markdown",
   "metadata": {},
   "source": [
    "Для матрицы с диагональным преобладанием всё осталось без особого изменения, однако в какой-то момент можно заметить, как начиная с некоторого значения сходимость теряется."
   ]
  },
  {
   "cell_type": "code",
   "execution_count": 85,
   "metadata": {},
   "outputs": [
    {
     "name": "stdout",
     "output_type": "stream",
     "text": [
      "Warning: Достаточное условие сходимости не выполняется\n",
      "[-0.6579984341027272, 1.0213939139495067, 0.05791318134490043, 0.9629400706964991, 0.5498183468691128, -0.2114767474992105, -0.3322967186009887, -1.4544369234948733, -1.1525178943920757, 0.8442168444015253]\n",
      "[7.495687373273956e+20, 7.043972509576546e+20, -1.0628809978292465e+20, 2.358272812246111e+20, -1.034752441590918e+20, 2.5231700789340524e+20, 7.239578589583155e+19, 6.331790042023225e+19, -2.4178476237928268e+19, -7.371273411536075e+19]\n",
      "[3.978051846412529e+101, 3.738321310959502e+101, -5.64083786499308e+100, 1.2515638723874027e+101, -5.491556218749709e+100, 1.3390768439869414e+101, 3.8421318207886935e+100, 3.3603574713609362e+100, -1.2831809446145727e+100, -3.912023853839687e+100]\n",
      "[2.2604145303720694e+229, 2.1241944893485754e+229, -3.205245272256077e+228, 7.111654830201634e+228, -3.12042023343948e+228, 7.608922337607374e+228, 2.1831818514753037e+228, 1.909427314869871e+228, -7.2913098277466485e+227, -2.2228960063343434e+228]\n"
     ]
    }
   ],
   "source": [
    "seidel_relaxed(diagonal_matrix, b, [1.8, 1.81, 1.82, 1.83])"
   ]
  }
 ],
 "metadata": {
  "kernelspec": {
   "display_name": "Python 3",
   "language": "python",
   "name": "python3"
  },
  "language_info": {
   "codemirror_mode": {
    "name": "ipython",
    "version": 3
   },
   "file_extension": ".py",
   "mimetype": "text/x-python",
   "name": "python",
   "nbconvert_exporter": "python",
   "pygments_lexer": "ipython3",
   "version": "3.8.2"
  },
  "pycharm": {
   "stem_cell": {
    "cell_type": "raw",
    "metadata": {
     "collapsed": false
    },
    "source": []
   }
  }
 },
 "nbformat": 4,
 "nbformat_minor": 4
}
